{
 "cells": [
  {
   "cell_type": "code",
   "execution_count": 204,
   "metadata": {},
   "outputs": [],
   "source": [
    "%matplotlib inline\n",
    "import pandas as pd\n",
    "import pyreadstat as pr\n",
    "import matplotlib.pyplot as plt\n",
    "import plotly\n",
    "import seaborn as sns\n",
    "import statsmodels.formula.api as sm\n",
    "plt.style.use('fivethirtyeight')\n",
    "pd.set_option('max_rows',300)\n",
    "plt.rcParams['font.family']='Arial'\n",
    "plt.rcParams['font.size']=12\n",
    "plt.rcParams['figure.figsize']=(10,6)"
   ]
  },
  {
   "cell_type": "code",
   "execution_count": 22,
   "metadata": {},
   "outputs": [],
   "source": [
    "data,meta=pr.read_sav(r'C:\\Users\\IBK PC\\Desktop\\DATA SCIENCE PROJECTS\\OLAMIDE\\OLAMIDE SPSS.sav')"
   ]
  },
  {
   "cell_type": "code",
   "execution_count": 24,
   "metadata": {},
   "outputs": [
    {
     "data": {
      "text/html": [
       "<div>\n",
       "<style scoped>\n",
       "    .dataframe tbody tr th:only-of-type {\n",
       "        vertical-align: middle;\n",
       "    }\n",
       "\n",
       "    .dataframe tbody tr th {\n",
       "        vertical-align: top;\n",
       "    }\n",
       "\n",
       "    .dataframe thead th {\n",
       "        text-align: right;\n",
       "    }\n",
       "</style>\n",
       "<table border=\"1\" class=\"dataframe\">\n",
       "  <thead>\n",
       "    <tr style=\"text-align: right;\">\n",
       "      <th></th>\n",
       "      <th>gender</th>\n",
       "      <th>marital</th>\n",
       "      <th>age</th>\n",
       "      <th>education</th>\n",
       "      <th>service</th>\n",
       "      <th>B6</th>\n",
       "      <th>B7</th>\n",
       "      <th>B8</th>\n",
       "      <th>B9</th>\n",
       "      <th>B10</th>\n",
       "      <th>B11</th>\n",
       "      <th>B12</th>\n",
       "      <th>B13</th>\n",
       "      <th>B14</th>\n",
       "      <th>B15</th>\n",
       "      <th>B16</th>\n",
       "      <th>B17</th>\n",
       "      <th>B18</th>\n",
       "      <th>B19</th>\n",
       "      <th>B20</th>\n",
       "      <th>B21</th>\n",
       "      <th>B22</th>\n",
       "      <th>B23</th>\n",
       "      <th>B24</th>\n",
       "      <th>B25</th>\n",
       "      <th>B26</th>\n",
       "      <th>B27</th>\n",
       "      <th>B28</th>\n",
       "      <th>B29</th>\n",
       "      <th>B30</th>\n",
       "      <th>C31</th>\n",
       "      <th>C32</th>\n",
       "      <th>C33</th>\n",
       "      <th>C34</th>\n",
       "      <th>C35</th>\n",
       "      <th>C36</th>\n",
       "      <th>C37</th>\n",
       "      <th>C38</th>\n",
       "      <th>D39</th>\n",
       "      <th>D40</th>\n",
       "      <th>D41</th>\n",
       "      <th>D42</th>\n",
       "      <th>D43</th>\n",
       "      <th>D44</th>\n",
       "    </tr>\n",
       "  </thead>\n",
       "  <tbody>\n",
       "    <tr>\n",
       "      <th>0</th>\n",
       "      <td>1</td>\n",
       "      <td>1.0</td>\n",
       "      <td>2.0</td>\n",
       "      <td>1.0</td>\n",
       "      <td>2.0</td>\n",
       "      <td>2.0</td>\n",
       "      <td>2.0</td>\n",
       "      <td>2.0</td>\n",
       "      <td>2.0</td>\n",
       "      <td>2.0</td>\n",
       "      <td>1.0</td>\n",
       "      <td>1.0</td>\n",
       "      <td>1.0</td>\n",
       "      <td>4.0</td>\n",
       "      <td>2.0</td>\n",
       "      <td>2.0</td>\n",
       "      <td>2.0</td>\n",
       "      <td>1.0</td>\n",
       "      <td>2.0</td>\n",
       "      <td>2.0</td>\n",
       "      <td>1.0</td>\n",
       "      <td>2.0</td>\n",
       "      <td>2.0</td>\n",
       "      <td>2.0</td>\n",
       "      <td>2.0</td>\n",
       "      <td>2.0</td>\n",
       "      <td>2.0</td>\n",
       "      <td>3.0</td>\n",
       "      <td>3.0</td>\n",
       "      <td>3.0</td>\n",
       "      <td>2.0</td>\n",
       "      <td>3.0</td>\n",
       "      <td>2.0</td>\n",
       "      <td>3.0</td>\n",
       "      <td>2.0</td>\n",
       "      <td>3.0</td>\n",
       "      <td>2.0</td>\n",
       "      <td>2.0</td>\n",
       "      <td>1.0</td>\n",
       "      <td>4.0</td>\n",
       "      <td>1.0</td>\n",
       "      <td>2.0</td>\n",
       "      <td>2.0</td>\n",
       "      <td>4.0</td>\n",
       "    </tr>\n",
       "    <tr>\n",
       "      <th>1</th>\n",
       "      <td>1</td>\n",
       "      <td>1.0</td>\n",
       "      <td>1.0</td>\n",
       "      <td>1.0</td>\n",
       "      <td>1.0</td>\n",
       "      <td>2.0</td>\n",
       "      <td>3.0</td>\n",
       "      <td>3.0</td>\n",
       "      <td>3.0</td>\n",
       "      <td>1.0</td>\n",
       "      <td>2.0</td>\n",
       "      <td>3.0</td>\n",
       "      <td>3.0</td>\n",
       "      <td>4.0</td>\n",
       "      <td>3.0</td>\n",
       "      <td>5.0</td>\n",
       "      <td>3.0</td>\n",
       "      <td>1.0</td>\n",
       "      <td>2.0</td>\n",
       "      <td>5.0</td>\n",
       "      <td>2.0</td>\n",
       "      <td>2.0</td>\n",
       "      <td>5.0</td>\n",
       "      <td>2.0</td>\n",
       "      <td>3.0</td>\n",
       "      <td>2.0</td>\n",
       "      <td>3.0</td>\n",
       "      <td>4.0</td>\n",
       "      <td>3.0</td>\n",
       "      <td>3.0</td>\n",
       "      <td>3.0</td>\n",
       "      <td>3.0</td>\n",
       "      <td>3.0</td>\n",
       "      <td>4.0</td>\n",
       "      <td>2.0</td>\n",
       "      <td>3.0</td>\n",
       "      <td>3.0</td>\n",
       "      <td>3.0</td>\n",
       "      <td>3.0</td>\n",
       "      <td>4.0</td>\n",
       "      <td>3.0</td>\n",
       "      <td>2.0</td>\n",
       "      <td>3.0</td>\n",
       "      <td>3.0</td>\n",
       "    </tr>\n",
       "    <tr>\n",
       "      <th>2</th>\n",
       "      <td>1</td>\n",
       "      <td>1.0</td>\n",
       "      <td>1.0</td>\n",
       "      <td>1.0</td>\n",
       "      <td>2.0</td>\n",
       "      <td>4.0</td>\n",
       "      <td>1.0</td>\n",
       "      <td>2.0</td>\n",
       "      <td>4.0</td>\n",
       "      <td>2.0</td>\n",
       "      <td>NaN</td>\n",
       "      <td>2.0</td>\n",
       "      <td>3.0</td>\n",
       "      <td>3.0</td>\n",
       "      <td>2.0</td>\n",
       "      <td>2.0</td>\n",
       "      <td>NaN</td>\n",
       "      <td>1.0</td>\n",
       "      <td>1.0</td>\n",
       "      <td>4.0</td>\n",
       "      <td>2.0</td>\n",
       "      <td>2.0</td>\n",
       "      <td>5.0</td>\n",
       "      <td>4.0</td>\n",
       "      <td>2.0</td>\n",
       "      <td>3.0</td>\n",
       "      <td>2.0</td>\n",
       "      <td>5.0</td>\n",
       "      <td>2.0</td>\n",
       "      <td>2.0</td>\n",
       "      <td>2.0</td>\n",
       "      <td>2.0</td>\n",
       "      <td>2.0</td>\n",
       "      <td>3.0</td>\n",
       "      <td>3.0</td>\n",
       "      <td>3.0</td>\n",
       "      <td>3.0</td>\n",
       "      <td>2.0</td>\n",
       "      <td>5.0</td>\n",
       "      <td>4.0</td>\n",
       "      <td>3.0</td>\n",
       "      <td>2.0</td>\n",
       "      <td>3.0</td>\n",
       "      <td>4.0</td>\n",
       "    </tr>\n",
       "  </tbody>\n",
       "</table>\n",
       "</div>"
      ],
      "text/plain": [
       "  gender  marital  age  education  service   B6   B7   B8   B9  B10  B11  B12  \\\n",
       "0      1      1.0  2.0        1.0      2.0  2.0  2.0  2.0  2.0  2.0  1.0  1.0   \n",
       "1      1      1.0  1.0        1.0      1.0  2.0  3.0  3.0  3.0  1.0  2.0  3.0   \n",
       "2      1      1.0  1.0        1.0      2.0  4.0  1.0  2.0  4.0  2.0  NaN  2.0   \n",
       "\n",
       "   B13  B14  B15  B16  B17  B18  B19  B20  B21  B22  B23  B24  B25  B26  B27  \\\n",
       "0  1.0  4.0  2.0  2.0  2.0  1.0  2.0  2.0  1.0  2.0  2.0  2.0  2.0  2.0  2.0   \n",
       "1  3.0  4.0  3.0  5.0  3.0  1.0  2.0  5.0  2.0  2.0  5.0  2.0  3.0  2.0  3.0   \n",
       "2  3.0  3.0  2.0  2.0  NaN  1.0  1.0  4.0  2.0  2.0  5.0  4.0  2.0  3.0  2.0   \n",
       "\n",
       "   B28  B29  B30  C31  C32  C33  C34  C35  C36  C37  C38  D39  D40  D41  D42  \\\n",
       "0  3.0  3.0  3.0  2.0  3.0  2.0  3.0  2.0  3.0  2.0  2.0  1.0  4.0  1.0  2.0   \n",
       "1  4.0  3.0  3.0  3.0  3.0  3.0  4.0  2.0  3.0  3.0  3.0  3.0  4.0  3.0  2.0   \n",
       "2  5.0  2.0  2.0  2.0  2.0  2.0  3.0  3.0  3.0  3.0  2.0  5.0  4.0  3.0  2.0   \n",
       "\n",
       "   D43  D44  \n",
       "0  2.0  4.0  \n",
       "1  3.0  3.0  \n",
       "2  3.0  4.0  "
      ]
     },
     "execution_count": 24,
     "metadata": {},
     "output_type": "execute_result"
    }
   ],
   "source": [
    "data.head(3)"
   ]
  },
  {
   "cell_type": "code",
   "execution_count": 29,
   "metadata": {},
   "outputs": [
    {
     "name": "stdout",
     "output_type": "stream",
     "text": [
      "{'gender': 'gender', 'marital': 'marital status', 'age': 'age', 'education': 'education status', 'service': 'years of service', 'B6': 'Extent of satisfaction about preent working condition', 'B7': ' extent to which work pressure puts you on stress', 'B8': 'extent to which you feel safe at work', 'B9': 'degree of provision of  adequate leave and holiday period', 'B10': \"degree of company's concerb regarding the health and safety of employees\", 'B11': 'extent to which you relate with peers', 'B12': 'extent to which you enjoy working with peers', 'B13': 'extent to which you enjoy having a friendly relationship  with peers outiside work', 'B14': 'extent to which company organizes social functions and get together parties for workers', 'B15': 'degree of relationship  with managers', 'B16': 'degree of criticism by your manager  when you fail to meet expectations', 'B17': 'extent to which your manager praise you when you meet or exceed expectations', 'B18': 'degree of involvement in decision making process', 'B19': 'extent to which you enjoy having a friendly relationship with your manager outside of work', 'B20': 'to what extent does your company pay you', 'B21': 'extent to which you prefer in-kind rewards to cash rewards', 'B22': 'degree of satisfaction with your current pay', 'B23': 'extent to which you receive allowances for special duties and overtime on the job', 'B24': 'extent to which you enjoy  a friendly  and conducive work environment', 'B25': 'to what extent does your company go to improve work environment', 'B26': 'extent to which you enjoy autonomy in discharging your duties', 'B27': 'extent to which  your office is spacious and comfortable.', 'B28': 'to what extent does your company  have a training and development policy applicable to all employees', 'B29': 'ability of yourcompany to organize training and development programmes', 'B30': 'extent to which your company  applies new techniques learnt to the job', 'C31': 'my company does alot to ensure that workload is fair', 'C32': 'my superior is always impressed with the results I get when he assigns work to me', 'C33': 'i have the required tools and resources to do my job well', 'C34': 'senior manager demonstrate their commitment to quality by providing feedback', 'C35': 'my boss always praise me for completing tasks assigned to me on record time', 'C36': 'my company provides me with a job schedule to ensure time is properly utilized', 'C37': 'I often get my job  done properly in good time at a minimum cost', 'C38': 'my boss criticizes me for the waste of resources allocated to me while carrying out certain assignments', 'D39': 'I would rather work alone than work with others', 'D40': 'I prefer financial incentives compared to non-financial incentives', 'D41': 'I am satisfied with my current job', 'D42': 'my current position pleases me', 'D43': 'my company adopt the right policies', 'D44': 'I am satisfied with the reward systems of my company'}\n"
     ]
    }
   ],
   "source": [
    "#Display the labels for the column names\n",
    "print(meta.column_names_to_labels)"
   ]
  },
  {
   "cell_type": "code",
   "execution_count": 30,
   "metadata": {},
   "outputs": [],
   "source": [
    "#To see the dataframe in terms of the value labels\n",
    "data_with_value_labels=pr.set_value_labels(data,meta)"
   ]
  },
  {
   "cell_type": "code",
   "execution_count": 31,
   "metadata": {},
   "outputs": [
    {
     "data": {
      "text/html": [
       "<div>\n",
       "<style scoped>\n",
       "    .dataframe tbody tr th:only-of-type {\n",
       "        vertical-align: middle;\n",
       "    }\n",
       "\n",
       "    .dataframe tbody tr th {\n",
       "        vertical-align: top;\n",
       "    }\n",
       "\n",
       "    .dataframe thead th {\n",
       "        text-align: right;\n",
       "    }\n",
       "</style>\n",
       "<table border=\"1\" class=\"dataframe\">\n",
       "  <thead>\n",
       "    <tr style=\"text-align: right;\">\n",
       "      <th></th>\n",
       "      <th>gender</th>\n",
       "      <th>marital</th>\n",
       "      <th>age</th>\n",
       "      <th>education</th>\n",
       "      <th>service</th>\n",
       "      <th>B6</th>\n",
       "      <th>B7</th>\n",
       "      <th>B8</th>\n",
       "      <th>B9</th>\n",
       "      <th>B10</th>\n",
       "      <th>B11</th>\n",
       "      <th>B12</th>\n",
       "      <th>B13</th>\n",
       "      <th>B14</th>\n",
       "      <th>B15</th>\n",
       "      <th>B16</th>\n",
       "      <th>B17</th>\n",
       "      <th>B18</th>\n",
       "      <th>B19</th>\n",
       "      <th>B20</th>\n",
       "      <th>B21</th>\n",
       "      <th>B22</th>\n",
       "      <th>B23</th>\n",
       "      <th>B24</th>\n",
       "      <th>B25</th>\n",
       "      <th>B26</th>\n",
       "      <th>B27</th>\n",
       "      <th>B28</th>\n",
       "      <th>B29</th>\n",
       "      <th>B30</th>\n",
       "      <th>C31</th>\n",
       "      <th>C32</th>\n",
       "      <th>C33</th>\n",
       "      <th>C34</th>\n",
       "      <th>C35</th>\n",
       "      <th>C36</th>\n",
       "      <th>C37</th>\n",
       "      <th>C38</th>\n",
       "      <th>D39</th>\n",
       "      <th>D40</th>\n",
       "      <th>D41</th>\n",
       "      <th>D42</th>\n",
       "      <th>D43</th>\n",
       "      <th>D44</th>\n",
       "    </tr>\n",
       "  </thead>\n",
       "  <tbody>\n",
       "    <tr>\n",
       "      <th>0</th>\n",
       "      <td>male</td>\n",
       "      <td>single</td>\n",
       "      <td>30- 40 years</td>\n",
       "      <td>O' level</td>\n",
       "      <td>6-10</td>\n",
       "      <td>disagree</td>\n",
       "      <td>D</td>\n",
       "      <td>D</td>\n",
       "      <td>D</td>\n",
       "      <td>D</td>\n",
       "      <td>SD</td>\n",
       "      <td>SD</td>\n",
       "      <td>SD</td>\n",
       "      <td>A</td>\n",
       "      <td>D</td>\n",
       "      <td>D</td>\n",
       "      <td>D</td>\n",
       "      <td>SD</td>\n",
       "      <td>D</td>\n",
       "      <td>D</td>\n",
       "      <td>SD</td>\n",
       "      <td>D</td>\n",
       "      <td>D</td>\n",
       "      <td>D</td>\n",
       "      <td>D</td>\n",
       "      <td>D</td>\n",
       "      <td>D</td>\n",
       "      <td>U</td>\n",
       "      <td>U</td>\n",
       "      <td>U</td>\n",
       "      <td>D</td>\n",
       "      <td>U</td>\n",
       "      <td>D</td>\n",
       "      <td>U</td>\n",
       "      <td>D</td>\n",
       "      <td>U</td>\n",
       "      <td>D</td>\n",
       "      <td>D</td>\n",
       "      <td>SD</td>\n",
       "      <td>A</td>\n",
       "      <td>SD</td>\n",
       "      <td>D</td>\n",
       "      <td>D</td>\n",
       "      <td>A</td>\n",
       "    </tr>\n",
       "    <tr>\n",
       "      <th>1</th>\n",
       "      <td>male</td>\n",
       "      <td>single</td>\n",
       "      <td>&lt; 30 years</td>\n",
       "      <td>O' level</td>\n",
       "      <td>1-5</td>\n",
       "      <td>disagree</td>\n",
       "      <td>U</td>\n",
       "      <td>U</td>\n",
       "      <td>U</td>\n",
       "      <td>SD</td>\n",
       "      <td>D</td>\n",
       "      <td>U</td>\n",
       "      <td>U</td>\n",
       "      <td>A</td>\n",
       "      <td>U</td>\n",
       "      <td>SA</td>\n",
       "      <td>U</td>\n",
       "      <td>SD</td>\n",
       "      <td>D</td>\n",
       "      <td>SA</td>\n",
       "      <td>D</td>\n",
       "      <td>D</td>\n",
       "      <td>SA</td>\n",
       "      <td>D</td>\n",
       "      <td>U</td>\n",
       "      <td>D</td>\n",
       "      <td>U</td>\n",
       "      <td>A</td>\n",
       "      <td>U</td>\n",
       "      <td>U</td>\n",
       "      <td>U</td>\n",
       "      <td>U</td>\n",
       "      <td>U</td>\n",
       "      <td>A</td>\n",
       "      <td>D</td>\n",
       "      <td>U</td>\n",
       "      <td>U</td>\n",
       "      <td>U</td>\n",
       "      <td>U</td>\n",
       "      <td>A</td>\n",
       "      <td>U</td>\n",
       "      <td>D</td>\n",
       "      <td>U</td>\n",
       "      <td>U</td>\n",
       "    </tr>\n",
       "    <tr>\n",
       "      <th>2</th>\n",
       "      <td>male</td>\n",
       "      <td>single</td>\n",
       "      <td>&lt; 30 years</td>\n",
       "      <td>O' level</td>\n",
       "      <td>6-10</td>\n",
       "      <td>agree</td>\n",
       "      <td>SD</td>\n",
       "      <td>D</td>\n",
       "      <td>A</td>\n",
       "      <td>D</td>\n",
       "      <td>NaN</td>\n",
       "      <td>D</td>\n",
       "      <td>U</td>\n",
       "      <td>U</td>\n",
       "      <td>D</td>\n",
       "      <td>D</td>\n",
       "      <td>NaN</td>\n",
       "      <td>SD</td>\n",
       "      <td>SD</td>\n",
       "      <td>A</td>\n",
       "      <td>D</td>\n",
       "      <td>D</td>\n",
       "      <td>SA</td>\n",
       "      <td>A</td>\n",
       "      <td>D</td>\n",
       "      <td>U</td>\n",
       "      <td>D</td>\n",
       "      <td>SA</td>\n",
       "      <td>D</td>\n",
       "      <td>D</td>\n",
       "      <td>D</td>\n",
       "      <td>D</td>\n",
       "      <td>D</td>\n",
       "      <td>U</td>\n",
       "      <td>U</td>\n",
       "      <td>U</td>\n",
       "      <td>U</td>\n",
       "      <td>D</td>\n",
       "      <td>SA</td>\n",
       "      <td>A</td>\n",
       "      <td>U</td>\n",
       "      <td>D</td>\n",
       "      <td>U</td>\n",
       "      <td>A</td>\n",
       "    </tr>\n",
       "    <tr>\n",
       "      <th>3</th>\n",
       "      <td>female</td>\n",
       "      <td>single</td>\n",
       "      <td>&lt; 30 years</td>\n",
       "      <td>NCE/OND</td>\n",
       "      <td>6-10</td>\n",
       "      <td>agree</td>\n",
       "      <td>U</td>\n",
       "      <td>D</td>\n",
       "      <td>SA</td>\n",
       "      <td>SD</td>\n",
       "      <td>D</td>\n",
       "      <td>SD</td>\n",
       "      <td>U</td>\n",
       "      <td>U</td>\n",
       "      <td>A</td>\n",
       "      <td>SD</td>\n",
       "      <td>NaN</td>\n",
       "      <td>SD</td>\n",
       "      <td>A</td>\n",
       "      <td>U</td>\n",
       "      <td>U</td>\n",
       "      <td>D</td>\n",
       "      <td>A</td>\n",
       "      <td>A</td>\n",
       "      <td>D</td>\n",
       "      <td>SD</td>\n",
       "      <td>D</td>\n",
       "      <td>SA</td>\n",
       "      <td>D</td>\n",
       "      <td>D</td>\n",
       "      <td>D</td>\n",
       "      <td>D</td>\n",
       "      <td>SD</td>\n",
       "      <td>D</td>\n",
       "      <td>D</td>\n",
       "      <td>U</td>\n",
       "      <td>D</td>\n",
       "      <td>D</td>\n",
       "      <td>A</td>\n",
       "      <td>A</td>\n",
       "      <td>U</td>\n",
       "      <td>D</td>\n",
       "      <td>U</td>\n",
       "      <td>A</td>\n",
       "    </tr>\n",
       "    <tr>\n",
       "      <th>4</th>\n",
       "      <td>female</td>\n",
       "      <td>married</td>\n",
       "      <td>&lt; 30 years</td>\n",
       "      <td>HND/B.SC</td>\n",
       "      <td>6-10</td>\n",
       "      <td>undecided</td>\n",
       "      <td>SA</td>\n",
       "      <td>SD</td>\n",
       "      <td>U</td>\n",
       "      <td>U</td>\n",
       "      <td>D</td>\n",
       "      <td>SD</td>\n",
       "      <td>A</td>\n",
       "      <td>U</td>\n",
       "      <td>A</td>\n",
       "      <td>NaN</td>\n",
       "      <td>NaN</td>\n",
       "      <td>D</td>\n",
       "      <td>A</td>\n",
       "      <td>A</td>\n",
       "      <td>A</td>\n",
       "      <td>D</td>\n",
       "      <td>A</td>\n",
       "      <td>SA</td>\n",
       "      <td>A</td>\n",
       "      <td>U</td>\n",
       "      <td>D</td>\n",
       "      <td>A</td>\n",
       "      <td>A</td>\n",
       "      <td>A</td>\n",
       "      <td>SD</td>\n",
       "      <td>SD</td>\n",
       "      <td>D</td>\n",
       "      <td>D</td>\n",
       "      <td>D</td>\n",
       "      <td>A</td>\n",
       "      <td>D</td>\n",
       "      <td>SD</td>\n",
       "      <td>U</td>\n",
       "      <td>A</td>\n",
       "      <td>U</td>\n",
       "      <td>A</td>\n",
       "      <td>U</td>\n",
       "      <td>A</td>\n",
       "    </tr>\n",
       "  </tbody>\n",
       "</table>\n",
       "</div>"
      ],
      "text/plain": [
       "   gender  marital           age education service         B6  B7  B8  B9 B10  \\\n",
       "0    male   single  30- 40 years  O' level    6-10   disagree   D   D   D   D   \n",
       "1    male   single    < 30 years  O' level     1-5   disagree   U   U   U  SD   \n",
       "2    male   single    < 30 years  O' level    6-10      agree  SD   D   A   D   \n",
       "3  female   single    < 30 years   NCE/OND    6-10      agree   U   D  SA  SD   \n",
       "4  female  married    < 30 years  HND/B.SC    6-10  undecided  SA  SD   U   U   \n",
       "\n",
       "   B11 B12 B13 B14 B15  B16  B17 B18 B19 B20 B21 B22 B23 B24 B25 B26 B27 B28  \\\n",
       "0   SD  SD  SD   A   D    D    D  SD   D   D  SD   D   D   D   D   D   D   U   \n",
       "1    D   U   U   A   U   SA    U  SD   D  SA   D   D  SA   D   U   D   U   A   \n",
       "2  NaN   D   U   U   D    D  NaN  SD  SD   A   D   D  SA   A   D   U   D  SA   \n",
       "3    D  SD   U   U   A   SD  NaN  SD   A   U   U   D   A   A   D  SD   D  SA   \n",
       "4    D  SD   A   U   A  NaN  NaN   D   A   A   A   D   A  SA   A   U   D   A   \n",
       "\n",
       "  B29 B30 C31 C32 C33 C34 C35 C36 C37 C38 D39 D40 D41 D42 D43 D44  \n",
       "0   U   U   D   U   D   U   D   U   D   D  SD   A  SD   D   D   A  \n",
       "1   U   U   U   U   U   A   D   U   U   U   U   A   U   D   U   U  \n",
       "2   D   D   D   D   D   U   U   U   U   D  SA   A   U   D   U   A  \n",
       "3   D   D   D   D  SD   D   D   U   D   D   A   A   U   D   U   A  \n",
       "4   A   A  SD  SD   D   D   D   A   D  SD   U   A   U   A   U   A  "
      ]
     },
     "execution_count": 31,
     "metadata": {},
     "output_type": "execute_result"
    }
   ],
   "source": [
    "#Examine the first few rows\n",
    "data_with_value_labels.head()"
   ]
  },
  {
   "cell_type": "code",
   "execution_count": 38,
   "metadata": {},
   "outputs": [
    {
     "name": "stdout",
     "output_type": "stream",
     "text": [
      "80\n",
      "44\n",
      "None\n",
      "WINDOWS-1252\n",
      "{'gender': 'nominal', 'marital': 'nominal', 'age': 'ordinal', 'education': 'ordinal', 'service': 'ordinal', 'B6': 'ordinal', 'B7': 'ordinal', 'B8': 'ordinal', 'B9': 'ordinal', 'B10': 'ordinal', 'B11': 'ordinal', 'B12': 'ordinal', 'B13': 'ordinal', 'B14': 'ordinal', 'B15': 'ordinal', 'B16': 'ordinal', 'B17': 'ordinal', 'B18': 'ordinal', 'B19': 'ordinal', 'B20': 'ordinal', 'B21': 'ordinal', 'B22': 'ordinal', 'B23': 'ordinal', 'B24': 'ordinal', 'B25': 'ordinal', 'B26': 'ordinal', 'B27': 'ordinal', 'B28': 'ordinal', 'B29': 'ordinal', 'B30': 'ordinal', 'C31': 'ordinal', 'C32': 'ordinal', 'C33': 'ordinal', 'C34': 'ordinal', 'C35': 'ordinal', 'C36': 'ordinal', 'C37': 'ordinal', 'C38': 'ordinal', 'D39': 'ordinal', 'D40': 'ordinal', 'D41': 'ordinal', 'D42': 'ordinal', 'D43': 'ordinal', 'D44': 'ordinal'}\n"
     ]
    }
   ],
   "source": [
    "#View the number of rows\n",
    "#view the number of columns\n",
    "#view the file label if any\n",
    "#view the file encoding\n",
    "#view the mesure each varible belongs to\n",
    "print(meta.number_rows)\n",
    "print(meta.number_columns)\n",
    "print(meta.file_label)\n",
    "print(meta.file_encoding)\n",
    "print(meta.variable_measure)\n"
   ]
  },
  {
   "cell_type": "code",
   "execution_count": 39,
   "metadata": {},
   "outputs": [
    {
     "name": "stdout",
     "output_type": "stream",
     "text": [
      "{'gender': {'1': 'male', '2': 'female'}, 'marital': {1.0: 'single', 2.0: 'married', 3.0: 'divorced'}, 'age': {1.0: '< 30 years', 2.0: '30- 40 years', 3.0: '40-50 years', 4.0: '50-60 years', 5.0: 'above 60 years'}, 'education': {1.0: \"O' level\", 2.0: 'NCE/OND', 3.0: 'HND/B.SC', 4.0: 'OTHERS'}, 'service': {1.0: '1-5', 2.0: '6-10', 3.0: '11-15', 4.0: '16-20', 5.0: '21-30', 6.0: 'Above 30'}, 'B6': {1.0: 'strongly disagree', 2.0: 'disagree', 3.0: 'undecided', 4.0: 'agree', 5.0: 'strongly agree'}, 'B7': {1.0: 'SD', 2.0: 'D', 3.0: 'U', 4.0: 'A', 5.0: 'SA'}, 'B8': {1.0: 'SD', 2.0: 'D', 3.0: 'U', 4.0: 'A', 5.0: 'SA'}, 'B9': {1.0: 'SD', 2.0: 'D', 3.0: 'U', 4.0: 'A', 5.0: 'SA'}, 'B10': {1.0: 'SD', 2.0: 'D', 3.0: 'U', 4.0: 'A', 5.0: 'SA'}, 'B11': {1.0: 'SD', 2.0: 'D', 3.0: 'U', 4.0: 'A', 5.0: 'SA'}, 'B12': {1.0: 'SD', 2.0: 'D', 3.0: 'U', 4.0: 'A', 5.0: 'SA'}, 'B13': {1.0: 'SD', 2.0: 'D', 3.0: 'U', 4.0: 'A', 5.0: 'SA'}, 'B14': {1.0: 'SD', 2.0: 'D', 3.0: 'U', 4.0: 'A', 5.0: 'SA'}, 'B15': {1.0: 'SD', 2.0: 'D', 3.0: 'U', 4.0: 'A', 5.0: 'SA'}, 'B16': {1.0: 'SD', 2.0: 'D', 3.0: 'U', 4.0: 'A', 5.0: 'SA'}, 'B17': {1.0: 'SD', 2.0: 'D', 3.0: 'U', 4.0: 'A', 5.0: 'SA'}, 'B18': {1.0: 'SD', 2.0: 'D', 3.0: 'U', 4.0: 'A', 5.0: 'SA'}, 'B19': {1.0: 'SD', 2.0: 'D', 3.0: 'U', 4.0: 'A', 5.0: 'SA'}, 'B20': {1.0: 'SD', 2.0: 'D', 3.0: 'U', 4.0: 'A', 5.0: 'SA'}, 'B21': {1.0: 'SD', 2.0: 'D', 3.0: 'U', 4.0: 'A', 5.0: 'SA'}, 'B22': {1.0: 'SD', 2.0: 'D', 3.0: 'U', 4.0: 'A', 5.0: 'SA'}, 'B23': {1.0: 'SD', 2.0: 'D', 3.0: 'U', 4.0: 'A', 5.0: 'SA'}, 'B24': {1.0: 'SD', 2.0: 'D', 3.0: 'U', 4.0: 'A', 5.0: 'SA'}, 'B25': {1.0: 'SD', 2.0: 'D', 3.0: 'U', 4.0: 'A', 5.0: 'SA'}, 'B26': {1.0: 'SD', 2.0: 'D', 3.0: 'U', 4.0: 'A', 5.0: 'SA'}, 'B27': {1.0: 'SD', 2.0: 'D', 3.0: 'U', 4.0: 'A', 5.0: 'SA'}, 'B28': {1.0: 'SD', 2.0: 'D', 3.0: 'U', 4.0: 'A', 5.0: 'SA'}, 'B29': {1.0: 'SD', 2.0: 'D', 3.0: 'U', 4.0: 'A', 5.0: 'SA'}, 'B30': {1.0: 'SD', 2.0: 'D', 3.0: 'U', 4.0: 'A', 5.0: 'SA'}, 'C31': {1.0: 'SD', 2.0: 'D', 3.0: 'U', 4.0: 'A', 5.0: 'SA'}, 'C32': {1.0: 'SD', 2.0: 'D', 3.0: 'U', 4.0: 'A', 5.0: 'SA'}, 'C33': {1.0: 'SD', 2.0: 'D', 3.0: 'U', 4.0: 'A', 5.0: 'SA'}, 'C34': {1.0: 'SD', 2.0: 'D', 3.0: 'U', 4.0: 'A', 5.0: 'SA'}, 'C35': {1.0: 'SD', 2.0: 'D', 3.0: 'U', 4.0: 'A', 5.0: 'SA'}, 'C36': {1.0: 'SD', 2.0: 'D', 3.0: 'U', 4.0: 'A', 5.0: 'SA'}, 'C37': {1.0: 'SD', 2.0: 'D', 3.0: 'U', 4.0: 'A', 5.0: 'SA'}, 'C38': {1.0: 'SD', 2.0: 'D', 3.0: 'U', 4.0: 'A', 5.0: 'SA'}, 'D39': {1.0: 'SD', 2.0: 'D', 3.0: 'U', 4.0: 'A', 5.0: 'SA'}, 'D40': {1.0: 'SD', 2.0: 'D', 3.0: 'U', 4.0: 'A', 5.0: 'SA'}, 'D41': {1.0: 'SD', 2.0: 'D', 3.0: 'U', 4.0: 'A', 5.0: 'SA'}, 'D42': {1.0: 'SD', 2.0: 'D', 3.0: 'U', 4.0: 'A', 5.0: 'SA'}, 'D43': {1.0: 'SD', 2.0: 'D', 3.0: 'U', 4.0: 'A', 5.0: 'SA'}, 'D44': {1.0: 'SD', 2.0: 'D', 3.0: 'U', 4.0: 'A', 5.0: 'SA'}}\n"
     ]
    }
   ],
   "source": [
    "#View the labels of the values\n",
    "print(meta.variable_value_labels)"
   ]
  },
  {
   "cell_type": "code",
   "execution_count": 41,
   "metadata": {},
   "outputs": [],
   "source": [
    "#Add column labels to the data frame containging labels for the values.\n",
    "data_with_value_labels.columns=meta.column_labels"
   ]
  },
  {
   "cell_type": "code",
   "execution_count": 43,
   "metadata": {},
   "outputs": [
    {
     "data": {
      "text/html": [
       "<div>\n",
       "<style scoped>\n",
       "    .dataframe tbody tr th:only-of-type {\n",
       "        vertical-align: middle;\n",
       "    }\n",
       "\n",
       "    .dataframe tbody tr th {\n",
       "        vertical-align: top;\n",
       "    }\n",
       "\n",
       "    .dataframe thead th {\n",
       "        text-align: right;\n",
       "    }\n",
       "</style>\n",
       "<table border=\"1\" class=\"dataframe\">\n",
       "  <thead>\n",
       "    <tr style=\"text-align: right;\">\n",
       "      <th></th>\n",
       "      <th>gender</th>\n",
       "      <th>marital status</th>\n",
       "      <th>age</th>\n",
       "      <th>education status</th>\n",
       "      <th>years of service</th>\n",
       "      <th>Extent of satisfaction about preent working condition</th>\n",
       "      <th>extent to which work pressure puts you on stress</th>\n",
       "      <th>extent to which you feel safe at work</th>\n",
       "      <th>degree of provision of  adequate leave and holiday period</th>\n",
       "      <th>degree of company's concerb regarding the health and safety of employees</th>\n",
       "      <th>extent to which you relate with peers</th>\n",
       "      <th>extent to which you enjoy working with peers</th>\n",
       "      <th>extent to which you enjoy having a friendly relationship  with peers outiside work</th>\n",
       "      <th>extent to which company organizes social functions and get together parties for workers</th>\n",
       "      <th>degree of relationship  with managers</th>\n",
       "      <th>degree of criticism by your manager  when you fail to meet expectations</th>\n",
       "      <th>extent to which your manager praise you when you meet or exceed expectations</th>\n",
       "      <th>degree of involvement in decision making process</th>\n",
       "      <th>extent to which you enjoy having a friendly relationship with your manager outside of work</th>\n",
       "      <th>to what extent does your company pay you</th>\n",
       "      <th>extent to which you prefer in-kind rewards to cash rewards</th>\n",
       "      <th>degree of satisfaction with your current pay</th>\n",
       "      <th>extent to which you receive allowances for special duties and overtime on the job</th>\n",
       "      <th>extent to which you enjoy  a friendly  and conducive work environment</th>\n",
       "      <th>to what extent does your company go to improve work environment</th>\n",
       "      <th>extent to which you enjoy autonomy in discharging your duties</th>\n",
       "      <th>extent to which  your office is spacious and comfortable.</th>\n",
       "      <th>to what extent does your company  have a training and development policy applicable to all employees</th>\n",
       "      <th>ability of yourcompany to organize training and development programmes</th>\n",
       "      <th>extent to which your company  applies new techniques learnt to the job</th>\n",
       "      <th>my company does alot to ensure that workload is fair</th>\n",
       "      <th>my superior is always impressed with the results I get when he assigns work to me</th>\n",
       "      <th>i have the required tools and resources to do my job well</th>\n",
       "      <th>senior manager demonstrate their commitment to quality by providing feedback</th>\n",
       "      <th>my boss always praise me for completing tasks assigned to me on record time</th>\n",
       "      <th>my company provides me with a job schedule to ensure time is properly utilized</th>\n",
       "      <th>I often get my job  done properly in good time at a minimum cost</th>\n",
       "      <th>my boss criticizes me for the waste of resources allocated to me while carrying out certain assignments</th>\n",
       "      <th>I would rather work alone than work with others</th>\n",
       "      <th>I prefer financial incentives compared to non-financial incentives</th>\n",
       "      <th>I am satisfied with my current job</th>\n",
       "      <th>my current position pleases me</th>\n",
       "      <th>my company adopt the right policies</th>\n",
       "      <th>I am satisfied with the reward systems of my company</th>\n",
       "    </tr>\n",
       "  </thead>\n",
       "  <tbody>\n",
       "    <tr>\n",
       "      <th>0</th>\n",
       "      <td>male</td>\n",
       "      <td>single</td>\n",
       "      <td>30- 40 years</td>\n",
       "      <td>O' level</td>\n",
       "      <td>6-10</td>\n",
       "      <td>disagree</td>\n",
       "      <td>D</td>\n",
       "      <td>D</td>\n",
       "      <td>D</td>\n",
       "      <td>D</td>\n",
       "      <td>SD</td>\n",
       "      <td>SD</td>\n",
       "      <td>SD</td>\n",
       "      <td>A</td>\n",
       "      <td>D</td>\n",
       "      <td>D</td>\n",
       "      <td>D</td>\n",
       "      <td>SD</td>\n",
       "      <td>D</td>\n",
       "      <td>D</td>\n",
       "      <td>SD</td>\n",
       "      <td>D</td>\n",
       "      <td>D</td>\n",
       "      <td>D</td>\n",
       "      <td>D</td>\n",
       "      <td>D</td>\n",
       "      <td>D</td>\n",
       "      <td>U</td>\n",
       "      <td>U</td>\n",
       "      <td>U</td>\n",
       "      <td>D</td>\n",
       "      <td>U</td>\n",
       "      <td>D</td>\n",
       "      <td>U</td>\n",
       "      <td>D</td>\n",
       "      <td>U</td>\n",
       "      <td>D</td>\n",
       "      <td>D</td>\n",
       "      <td>SD</td>\n",
       "      <td>A</td>\n",
       "      <td>SD</td>\n",
       "      <td>D</td>\n",
       "      <td>D</td>\n",
       "      <td>A</td>\n",
       "    </tr>\n",
       "    <tr>\n",
       "      <th>1</th>\n",
       "      <td>male</td>\n",
       "      <td>single</td>\n",
       "      <td>&lt; 30 years</td>\n",
       "      <td>O' level</td>\n",
       "      <td>1-5</td>\n",
       "      <td>disagree</td>\n",
       "      <td>U</td>\n",
       "      <td>U</td>\n",
       "      <td>U</td>\n",
       "      <td>SD</td>\n",
       "      <td>D</td>\n",
       "      <td>U</td>\n",
       "      <td>U</td>\n",
       "      <td>A</td>\n",
       "      <td>U</td>\n",
       "      <td>SA</td>\n",
       "      <td>U</td>\n",
       "      <td>SD</td>\n",
       "      <td>D</td>\n",
       "      <td>SA</td>\n",
       "      <td>D</td>\n",
       "      <td>D</td>\n",
       "      <td>SA</td>\n",
       "      <td>D</td>\n",
       "      <td>U</td>\n",
       "      <td>D</td>\n",
       "      <td>U</td>\n",
       "      <td>A</td>\n",
       "      <td>U</td>\n",
       "      <td>U</td>\n",
       "      <td>U</td>\n",
       "      <td>U</td>\n",
       "      <td>U</td>\n",
       "      <td>A</td>\n",
       "      <td>D</td>\n",
       "      <td>U</td>\n",
       "      <td>U</td>\n",
       "      <td>U</td>\n",
       "      <td>U</td>\n",
       "      <td>A</td>\n",
       "      <td>U</td>\n",
       "      <td>D</td>\n",
       "      <td>U</td>\n",
       "      <td>U</td>\n",
       "    </tr>\n",
       "    <tr>\n",
       "      <th>2</th>\n",
       "      <td>male</td>\n",
       "      <td>single</td>\n",
       "      <td>&lt; 30 years</td>\n",
       "      <td>O' level</td>\n",
       "      <td>6-10</td>\n",
       "      <td>agree</td>\n",
       "      <td>SD</td>\n",
       "      <td>D</td>\n",
       "      <td>A</td>\n",
       "      <td>D</td>\n",
       "      <td>NaN</td>\n",
       "      <td>D</td>\n",
       "      <td>U</td>\n",
       "      <td>U</td>\n",
       "      <td>D</td>\n",
       "      <td>D</td>\n",
       "      <td>NaN</td>\n",
       "      <td>SD</td>\n",
       "      <td>SD</td>\n",
       "      <td>A</td>\n",
       "      <td>D</td>\n",
       "      <td>D</td>\n",
       "      <td>SA</td>\n",
       "      <td>A</td>\n",
       "      <td>D</td>\n",
       "      <td>U</td>\n",
       "      <td>D</td>\n",
       "      <td>SA</td>\n",
       "      <td>D</td>\n",
       "      <td>D</td>\n",
       "      <td>D</td>\n",
       "      <td>D</td>\n",
       "      <td>D</td>\n",
       "      <td>U</td>\n",
       "      <td>U</td>\n",
       "      <td>U</td>\n",
       "      <td>U</td>\n",
       "      <td>D</td>\n",
       "      <td>SA</td>\n",
       "      <td>A</td>\n",
       "      <td>U</td>\n",
       "      <td>D</td>\n",
       "      <td>U</td>\n",
       "      <td>A</td>\n",
       "    </tr>\n",
       "  </tbody>\n",
       "</table>\n",
       "</div>"
      ],
      "text/plain": [
       "  gender marital status           age education status years of service  \\\n",
       "0   male         single  30- 40 years         O' level             6-10   \n",
       "1   male         single    < 30 years         O' level              1-5   \n",
       "2   male         single    < 30 years         O' level             6-10   \n",
       "\n",
       "  Extent of satisfaction about preent working condition  \\\n",
       "0                                           disagree      \n",
       "1                                           disagree      \n",
       "2                                              agree      \n",
       "\n",
       "   extent to which work pressure puts you on stress  \\\n",
       "0                                                 D   \n",
       "1                                                 U   \n",
       "2                                                SD   \n",
       "\n",
       "  extent to which you feel safe at work  \\\n",
       "0                                     D   \n",
       "1                                     U   \n",
       "2                                     D   \n",
       "\n",
       "  degree of provision of  adequate leave and holiday period  \\\n",
       "0                                                  D          \n",
       "1                                                  U          \n",
       "2                                                  A          \n",
       "\n",
       "  degree of company's concerb regarding the health and safety of employees  \\\n",
       "0                                                  D                         \n",
       "1                                                 SD                         \n",
       "2                                                  D                         \n",
       "\n",
       "  extent to which you relate with peers  \\\n",
       "0                                    SD   \n",
       "1                                     D   \n",
       "2                                   NaN   \n",
       "\n",
       "  extent to which you enjoy working with peers  \\\n",
       "0                                           SD   \n",
       "1                                            U   \n",
       "2                                            D   \n",
       "\n",
       "  extent to which you enjoy having a friendly relationship  with peers outiside work  \\\n",
       "0                                                 SD                                   \n",
       "1                                                  U                                   \n",
       "2                                                  U                                   \n",
       "\n",
       "  extent to which company organizes social functions and get together parties for workers  \\\n",
       "0                                                  A                                        \n",
       "1                                                  A                                        \n",
       "2                                                  U                                        \n",
       "\n",
       "  degree of relationship  with managers  \\\n",
       "0                                     D   \n",
       "1                                     U   \n",
       "2                                     D   \n",
       "\n",
       "  degree of criticism by your manager  when you fail to meet expectations  \\\n",
       "0                                                  D                        \n",
       "1                                                 SA                        \n",
       "2                                                  D                        \n",
       "\n",
       "  extent to which your manager praise you when you meet or exceed expectations  \\\n",
       "0                                                  D                             \n",
       "1                                                  U                             \n",
       "2                                                NaN                             \n",
       "\n",
       "  degree of involvement in decision making process  \\\n",
       "0                                               SD   \n",
       "1                                               SD   \n",
       "2                                               SD   \n",
       "\n",
       "  extent to which you enjoy having a friendly relationship with your manager outside of work  \\\n",
       "0                                                  D                                           \n",
       "1                                                  D                                           \n",
       "2                                                 SD                                           \n",
       "\n",
       "  to what extent does your company pay you  \\\n",
       "0                                        D   \n",
       "1                                       SA   \n",
       "2                                        A   \n",
       "\n",
       "  extent to which you prefer in-kind rewards to cash rewards  \\\n",
       "0                                                 SD           \n",
       "1                                                  D           \n",
       "2                                                  D           \n",
       "\n",
       "  degree of satisfaction with your current pay  \\\n",
       "0                                            D   \n",
       "1                                            D   \n",
       "2                                            D   \n",
       "\n",
       "  extent to which you receive allowances for special duties and overtime on the job  \\\n",
       "0                                                  D                                  \n",
       "1                                                 SA                                  \n",
       "2                                                 SA                                  \n",
       "\n",
       "  extent to which you enjoy  a friendly  and conducive work environment  \\\n",
       "0                                                  D                      \n",
       "1                                                  D                      \n",
       "2                                                  A                      \n",
       "\n",
       "  to what extent does your company go to improve work environment  \\\n",
       "0                                                  D                \n",
       "1                                                  U                \n",
       "2                                                  D                \n",
       "\n",
       "  extent to which you enjoy autonomy in discharging your duties  \\\n",
       "0                                                  D              \n",
       "1                                                  D              \n",
       "2                                                  U              \n",
       "\n",
       "  extent to which  your office is spacious and comfortable.  \\\n",
       "0                                                  D          \n",
       "1                                                  U          \n",
       "2                                                  D          \n",
       "\n",
       "  to what extent does your company  have a training and development policy applicable to all employees  \\\n",
       "0                                                  U                                                     \n",
       "1                                                  A                                                     \n",
       "2                                                 SA                                                     \n",
       "\n",
       "  ability of yourcompany to organize training and development programmes  \\\n",
       "0                                                  U                       \n",
       "1                                                  U                       \n",
       "2                                                  D                       \n",
       "\n",
       "  extent to which your company  applies new techniques learnt to the job  \\\n",
       "0                                                  U                       \n",
       "1                                                  U                       \n",
       "2                                                  D                       \n",
       "\n",
       "  my company does alot to ensure that workload is fair  \\\n",
       "0                                                  D     \n",
       "1                                                  U     \n",
       "2                                                  D     \n",
       "\n",
       "  my superior is always impressed with the results I get when he assigns work to me  \\\n",
       "0                                                  U                                  \n",
       "1                                                  U                                  \n",
       "2                                                  D                                  \n",
       "\n",
       "  i have the required tools and resources to do my job well  \\\n",
       "0                                                  D          \n",
       "1                                                  U          \n",
       "2                                                  D          \n",
       "\n",
       "  senior manager demonstrate their commitment to quality by providing feedback  \\\n",
       "0                                                  U                             \n",
       "1                                                  A                             \n",
       "2                                                  U                             \n",
       "\n",
       "  my boss always praise me for completing tasks assigned to me on record time  \\\n",
       "0                                                  D                            \n",
       "1                                                  D                            \n",
       "2                                                  U                            \n",
       "\n",
       "  my company provides me with a job schedule to ensure time is properly utilized  \\\n",
       "0                                                  U                               \n",
       "1                                                  U                               \n",
       "2                                                  U                               \n",
       "\n",
       "  I often get my job  done properly in good time at a minimum cost  \\\n",
       "0                                                  D                 \n",
       "1                                                  U                 \n",
       "2                                                  U                 \n",
       "\n",
       "  my boss criticizes me for the waste of resources allocated to me while carrying out certain assignments  \\\n",
       "0                                                  D                                                        \n",
       "1                                                  U                                                        \n",
       "2                                                  D                                                        \n",
       "\n",
       "  I would rather work alone than work with others  \\\n",
       "0                                              SD   \n",
       "1                                               U   \n",
       "2                                              SA   \n",
       "\n",
       "  I prefer financial incentives compared to non-financial incentives  \\\n",
       "0                                                  A                   \n",
       "1                                                  A                   \n",
       "2                                                  A                   \n",
       "\n",
       "  I am satisfied with my current job my current position pleases me  \\\n",
       "0                                 SD                              D   \n",
       "1                                  U                              D   \n",
       "2                                  U                              D   \n",
       "\n",
       "  my company adopt the right policies  \\\n",
       "0                                   D   \n",
       "1                                   U   \n",
       "2                                   U   \n",
       "\n",
       "  I am satisfied with the reward systems of my company  \n",
       "0                                                  A    \n",
       "1                                                  U    \n",
       "2                                                  A    "
      ]
     },
     "execution_count": 43,
     "metadata": {},
     "output_type": "execute_result"
    }
   ],
   "source": [
    "data_with_value_labels.head(3)"
   ]
  },
  {
   "cell_type": "code",
   "execution_count": 76,
   "metadata": {},
   "outputs": [
    {
     "data": {
      "text/plain": [
       "1    62.50\n",
       "2    31.25\n",
       "      6.25\n",
       "Name: gender, dtype: float64"
      ]
     },
     "execution_count": 76,
     "metadata": {},
     "output_type": "execute_result"
    }
   ],
   "source": [
    "data['gender'].value_counts(normalize=True,sort=True)*100"
   ]
  },
  {
   "cell_type": "code",
   "execution_count": 71,
   "metadata": {},
   "outputs": [
    {
     "data": {
      "text/plain": [
       "2.0    46.835443\n",
       "1.0    44.303797\n",
       "3.0     8.860759\n",
       "Name: marital, dtype: float64"
      ]
     },
     "execution_count": 71,
     "metadata": {},
     "output_type": "execute_result"
    }
   ],
   "source": [
    "data['marital'].value_counts(normalize=True)*100"
   ]
  },
  {
   "cell_type": "code",
   "execution_count": 70,
   "metadata": {},
   "outputs": [
    {
     "data": {
      "text/plain": [
       "1.0    20.253165\n",
       "2.0    51.898734\n",
       "3.0    17.721519\n",
       "4.0     3.797468\n",
       "5.0     6.329114\n",
       "Name: age, dtype: float64"
      ]
     },
     "execution_count": 70,
     "metadata": {},
     "output_type": "execute_result"
    }
   ],
   "source": [
    "data['age'].value_counts(normalize=True).sort_index()*100"
   ]
  },
  {
   "cell_type": "code",
   "execution_count": 69,
   "metadata": {},
   "outputs": [
    {
     "data": {
      "text/plain": [
       "1.0    17.50\n",
       "2.0    22.50\n",
       "3.0    56.25\n",
       "4.0     3.75\n",
       "Name: education, dtype: float64"
      ]
     },
     "execution_count": 69,
     "metadata": {},
     "output_type": "execute_result"
    }
   ],
   "source": [
    "data['education'].value_counts(normalize=True).sort_index()*100"
   ]
  },
  {
   "cell_type": "code",
   "execution_count": 67,
   "metadata": {},
   "outputs": [
    {
     "data": {
      "text/plain": [
       "1.0    17.50\n",
       "2.0    42.50\n",
       "3.0    20.00\n",
       "4.0     8.75\n",
       "5.0     6.25\n",
       "6.0     5.00\n",
       "Name: service, dtype: float64"
      ]
     },
     "execution_count": 67,
     "metadata": {},
     "output_type": "execute_result"
    }
   ],
   "source": [
    "data['service'].value_counts(normalize=True).sort_index()*100"
   ]
  },
  {
   "cell_type": "code",
   "execution_count": 80,
   "metadata": {},
   "outputs": [
    {
     "data": {
      "text/plain": [
       "1.0    30.769231\n",
       "2.0    20.512821\n",
       "3.0    14.102564\n",
       "4.0    21.794872\n",
       "5.0    12.820513\n",
       "Name: B6, dtype: float64"
      ]
     },
     "execution_count": 80,
     "metadata": {},
     "output_type": "execute_result"
    }
   ],
   "source": [
    "data['B6'].value_counts(normalize=True).sort_index()*100"
   ]
  },
  {
   "cell_type": "code",
   "execution_count": 81,
   "metadata": {},
   "outputs": [
    {
     "data": {
      "text/plain": [
       "1.0    13.75\n",
       "2.0    42.50\n",
       "3.0    20.00\n",
       "4.0    15.00\n",
       "5.0     8.75\n",
       "Name: B7, dtype: float64"
      ]
     },
     "execution_count": 81,
     "metadata": {},
     "output_type": "execute_result"
    }
   ],
   "source": [
    "data['B7'].value_counts(normalize=True).sort_index()*100"
   ]
  },
  {
   "cell_type": "code",
   "execution_count": 82,
   "metadata": {},
   "outputs": [
    {
     "data": {
      "text/plain": [
       "1.0    22.50\n",
       "2.0    25.00\n",
       "3.0    26.25\n",
       "4.0    21.25\n",
       "5.0     5.00\n",
       "Name: B8, dtype: float64"
      ]
     },
     "execution_count": 82,
     "metadata": {},
     "output_type": "execute_result"
    }
   ],
   "source": [
    "data['B8'].value_counts(normalize=True).sort_index()*100"
   ]
  },
  {
   "cell_type": "code",
   "execution_count": 83,
   "metadata": {},
   "outputs": [
    {
     "data": {
      "text/plain": [
       "1.0    15.189873\n",
       "2.0    34.177215\n",
       "3.0    25.316456\n",
       "4.0    17.721519\n",
       "5.0     7.594937\n",
       "Name: B9, dtype: float64"
      ]
     },
     "execution_count": 83,
     "metadata": {},
     "output_type": "execute_result"
    }
   ],
   "source": [
    "data['B9'].value_counts(normalize=True).sort_index()*100"
   ]
  },
  {
   "cell_type": "code",
   "execution_count": 84,
   "metadata": {},
   "outputs": [
    {
     "data": {
      "text/plain": [
       "1.0     6.493506\n",
       "2.0    49.350649\n",
       "3.0    27.272727\n",
       "4.0    10.389610\n",
       "5.0     6.493506\n",
       "Name: B10, dtype: float64"
      ]
     },
     "execution_count": 84,
     "metadata": {},
     "output_type": "execute_result"
    }
   ],
   "source": [
    "data['B10'].value_counts(normalize=True).sort_index()*100"
   ]
  },
  {
   "cell_type": "code",
   "execution_count": 85,
   "metadata": {},
   "outputs": [
    {
     "data": {
      "text/plain": [
       "1.0    15.384615\n",
       "2.0    17.948718\n",
       "3.0    16.666667\n",
       "4.0    29.487179\n",
       "5.0    20.512821\n",
       "Name: B11, dtype: float64"
      ]
     },
     "execution_count": 85,
     "metadata": {},
     "output_type": "execute_result"
    }
   ],
   "source": [
    "data['B11'].value_counts(normalize=True).sort_index()*100"
   ]
  },
  {
   "cell_type": "code",
   "execution_count": 86,
   "metadata": {},
   "outputs": [
    {
     "data": {
      "text/plain": [
       "1.0     5.00\n",
       "2.0    20.00\n",
       "3.0    18.75\n",
       "4.0    33.75\n",
       "5.0    22.50\n",
       "Name: B12, dtype: float64"
      ]
     },
     "execution_count": 86,
     "metadata": {},
     "output_type": "execute_result"
    }
   ],
   "source": [
    "data['B12'].value_counts(normalize=True).sort_index()*100"
   ]
  },
  {
   "cell_type": "code",
   "execution_count": 87,
   "metadata": {},
   "outputs": [
    {
     "data": {
      "text/plain": [
       "1.0    16.883117\n",
       "2.0     7.792208\n",
       "3.0    16.883117\n",
       "4.0    45.454545\n",
       "5.0    12.987013\n",
       "Name: B13, dtype: float64"
      ]
     },
     "execution_count": 87,
     "metadata": {},
     "output_type": "execute_result"
    }
   ],
   "source": [
    "data['B13'].value_counts(normalize=True).sort_index()*100"
   ]
  },
  {
   "cell_type": "code",
   "execution_count": 88,
   "metadata": {},
   "outputs": [
    {
     "data": {
      "text/plain": [
       "1.0    10.256410\n",
       "2.0    15.384615\n",
       "3.0    38.461538\n",
       "4.0    25.641026\n",
       "5.0    10.256410\n",
       "Name: B14, dtype: float64"
      ]
     },
     "execution_count": 88,
     "metadata": {},
     "output_type": "execute_result"
    }
   ],
   "source": [
    "data['B14'].value_counts(normalize=True).sort_index()*100"
   ]
  },
  {
   "cell_type": "code",
   "execution_count": 89,
   "metadata": {},
   "outputs": [
    {
     "data": {
      "text/plain": [
       "1.0     2.564103\n",
       "2.0    51.282051\n",
       "3.0    35.897436\n",
       "4.0    10.256410\n",
       "Name: B15, dtype: float64"
      ]
     },
     "execution_count": 89,
     "metadata": {},
     "output_type": "execute_result"
    }
   ],
   "source": [
    "data['B15'].value_counts(normalize=True).sort_index()*100"
   ]
  },
  {
   "cell_type": "code",
   "execution_count": 90,
   "metadata": {},
   "outputs": [
    {
     "data": {
      "text/plain": [
       "1.0    14.285714\n",
       "2.0    41.558442\n",
       "3.0    23.376623\n",
       "4.0    19.480519\n",
       "5.0     1.298701\n",
       "Name: B16, dtype: float64"
      ]
     },
     "execution_count": 90,
     "metadata": {},
     "output_type": "execute_result"
    }
   ],
   "source": [
    "data['B16'].value_counts(normalize=True).sort_index()*100"
   ]
  },
  {
   "cell_type": "code",
   "execution_count": 91,
   "metadata": {},
   "outputs": [
    {
     "data": {
      "text/plain": [
       "2.0    23.684211\n",
       "3.0    17.105263\n",
       "4.0    38.157895\n",
       "5.0    21.052632\n",
       "Name: B17, dtype: float64"
      ]
     },
     "execution_count": 91,
     "metadata": {},
     "output_type": "execute_result"
    }
   ],
   "source": [
    "data['B17'].value_counts(normalize=True).sort_index()*100"
   ]
  },
  {
   "cell_type": "code",
   "execution_count": 92,
   "metadata": {},
   "outputs": [
    {
     "data": {
      "text/plain": [
       "1.0    13.75\n",
       "2.0    53.75\n",
       "3.0    12.50\n",
       "4.0    13.75\n",
       "5.0     6.25\n",
       "Name: B18, dtype: float64"
      ]
     },
     "execution_count": 92,
     "metadata": {},
     "output_type": "execute_result"
    }
   ],
   "source": [
    "data['B18'].value_counts(normalize=True).sort_index()*100"
   ]
  },
  {
   "cell_type": "code",
   "execution_count": 93,
   "metadata": {},
   "outputs": [
    {
     "data": {
      "text/plain": [
       "1.0    10.00\n",
       "2.0    13.75\n",
       "3.0    18.75\n",
       "4.0    46.25\n",
       "5.0    11.25\n",
       "Name: B19, dtype: float64"
      ]
     },
     "execution_count": 93,
     "metadata": {},
     "output_type": "execute_result"
    }
   ],
   "source": [
    "data['B19'].value_counts(normalize=True).sort_index()*100"
   ]
  },
  {
   "cell_type": "code",
   "execution_count": 94,
   "metadata": {},
   "outputs": [
    {
     "data": {
      "text/plain": [
       "1.0     8.75\n",
       "2.0    22.50\n",
       "3.0    25.00\n",
       "4.0    33.75\n",
       "5.0    10.00\n",
       "Name: B20, dtype: float64"
      ]
     },
     "execution_count": 94,
     "metadata": {},
     "output_type": "execute_result"
    }
   ],
   "source": [
    "data['B20'].value_counts(normalize=True).sort_index()*100"
   ]
  },
  {
   "cell_type": "code",
   "execution_count": 95,
   "metadata": {},
   "outputs": [
    {
     "data": {
      "text/plain": [
       "1.0    10.0\n",
       "2.0    20.0\n",
       "3.0    32.5\n",
       "4.0    25.0\n",
       "5.0    12.5\n",
       "Name: B21, dtype: float64"
      ]
     },
     "execution_count": 95,
     "metadata": {},
     "output_type": "execute_result"
    }
   ],
   "source": [
    "data['B21'].value_counts(normalize=True).sort_index()*100"
   ]
  },
  {
   "cell_type": "code",
   "execution_count": 96,
   "metadata": {},
   "outputs": [
    {
     "data": {
      "text/plain": [
       "1.0    10.00\n",
       "2.0    27.50\n",
       "3.0    33.75\n",
       "4.0    27.50\n",
       "5.0     1.25\n",
       "Name: B22, dtype: float64"
      ]
     },
     "execution_count": 96,
     "metadata": {},
     "output_type": "execute_result"
    }
   ],
   "source": [
    "data['B22'].value_counts(normalize=True).sort_index()*100"
   ]
  },
  {
   "cell_type": "code",
   "execution_count": 97,
   "metadata": {},
   "outputs": [
    {
     "data": {
      "text/plain": [
       "1.0     8.860759\n",
       "2.0    17.721519\n",
       "3.0    26.582278\n",
       "4.0    31.645570\n",
       "5.0    15.189873\n",
       "Name: B23, dtype: float64"
      ]
     },
     "execution_count": 97,
     "metadata": {},
     "output_type": "execute_result"
    }
   ],
   "source": [
    "data['B23'].value_counts(normalize=True).sort_index()*100"
   ]
  },
  {
   "cell_type": "code",
   "execution_count": 98,
   "metadata": {},
   "outputs": [
    {
     "data": {
      "text/plain": [
       "1.0     1.25\n",
       "2.0    18.75\n",
       "3.0    21.25\n",
       "4.0    27.50\n",
       "5.0    31.25\n",
       "Name: B24, dtype: float64"
      ]
     },
     "execution_count": 98,
     "metadata": {},
     "output_type": "execute_result"
    }
   ],
   "source": [
    "data['B24'].value_counts(normalize=True).sort_index()*100"
   ]
  },
  {
   "cell_type": "code",
   "execution_count": 99,
   "metadata": {},
   "outputs": [
    {
     "data": {
      "text/plain": [
       "1.0    36.25\n",
       "2.0    15.00\n",
       "3.0    13.75\n",
       "4.0    23.75\n",
       "5.0    11.25\n",
       "Name: B25, dtype: float64"
      ]
     },
     "execution_count": 99,
     "metadata": {},
     "output_type": "execute_result"
    }
   ],
   "source": [
    "data['B25'].value_counts(normalize=True).sort_index()*100"
   ]
  },
  {
   "cell_type": "code",
   "execution_count": 100,
   "metadata": {},
   "outputs": [
    {
     "data": {
      "text/plain": [
       "1.0    45.00\n",
       "2.0    21.25\n",
       "3.0    15.00\n",
       "4.0    12.50\n",
       "5.0     6.25\n",
       "Name: B26, dtype: float64"
      ]
     },
     "execution_count": 100,
     "metadata": {},
     "output_type": "execute_result"
    }
   ],
   "source": [
    "data['B26'].value_counts(normalize=True).sort_index()*100"
   ]
  },
  {
   "cell_type": "code",
   "execution_count": 101,
   "metadata": {},
   "outputs": [
    {
     "data": {
      "text/plain": [
       "1.0     2.564103\n",
       "2.0    51.282051\n",
       "3.0    24.358974\n",
       "4.0    12.820513\n",
       "5.0     8.974359\n",
       "Name: B27, dtype: float64"
      ]
     },
     "execution_count": 101,
     "metadata": {},
     "output_type": "execute_result"
    }
   ],
   "source": [
    "data['B27'].value_counts(normalize=True).sort_index()*100"
   ]
  },
  {
   "cell_type": "code",
   "execution_count": 102,
   "metadata": {},
   "outputs": [
    {
     "data": {
      "text/plain": [
       "2.0    41.558442\n",
       "3.0    14.285714\n",
       "4.0    29.870130\n",
       "5.0    14.285714\n",
       "Name: B28, dtype: float64"
      ]
     },
     "execution_count": 102,
     "metadata": {},
     "output_type": "execute_result"
    }
   ],
   "source": [
    "data['B28'].value_counts(normalize=True).sort_index()*100"
   ]
  },
  {
   "cell_type": "code",
   "execution_count": 103,
   "metadata": {},
   "outputs": [
    {
     "data": {
      "text/plain": [
       "1.0    12.5\n",
       "2.0    32.5\n",
       "3.0    22.5\n",
       "4.0    25.0\n",
       "5.0     7.5\n",
       "Name: B29, dtype: float64"
      ]
     },
     "execution_count": 103,
     "metadata": {},
     "output_type": "execute_result"
    }
   ],
   "source": [
    "data['B29'].value_counts(normalize=True).sort_index()*100"
   ]
  },
  {
   "cell_type": "code",
   "execution_count": 104,
   "metadata": {},
   "outputs": [
    {
     "data": {
      "text/plain": [
       "1.0     7.894737\n",
       "2.0    30.263158\n",
       "3.0    28.947368\n",
       "4.0    25.000000\n",
       "5.0     7.894737\n",
       "Name: B30, dtype: float64"
      ]
     },
     "execution_count": 104,
     "metadata": {},
     "output_type": "execute_result"
    }
   ],
   "source": [
    "data['B30'].value_counts(normalize=True).sort_index()*100"
   ]
  },
  {
   "cell_type": "code",
   "execution_count": 106,
   "metadata": {},
   "outputs": [
    {
     "data": {
      "text/plain": [
       "1.0    21.518987\n",
       "2.0    36.708861\n",
       "3.0    10.126582\n",
       "4.0    20.253165\n",
       "5.0    11.392405\n",
       "Name: C31, dtype: float64"
      ]
     },
     "execution_count": 106,
     "metadata": {},
     "output_type": "execute_result"
    }
   ],
   "source": [
    "data['C31'].value_counts(normalize=True).sort_index()*100"
   ]
  },
  {
   "cell_type": "code",
   "execution_count": 107,
   "metadata": {},
   "outputs": [
    {
     "data": {
      "text/plain": [
       "1.0    28.75\n",
       "2.0    22.50\n",
       "3.0    18.75\n",
       "4.0    23.75\n",
       "5.0     6.25\n",
       "Name: C32, dtype: float64"
      ]
     },
     "execution_count": 107,
     "metadata": {},
     "output_type": "execute_result"
    }
   ],
   "source": [
    "data['C32'].value_counts(normalize=True).sort_index()*100"
   ]
  },
  {
   "cell_type": "code",
   "execution_count": 108,
   "metadata": {},
   "outputs": [
    {
     "data": {
      "text/plain": [
       "1.0    31.645570\n",
       "2.0    21.518987\n",
       "3.0    25.316456\n",
       "4.0    16.455696\n",
       "5.0     5.063291\n",
       "Name: C33, dtype: float64"
      ]
     },
     "execution_count": 108,
     "metadata": {},
     "output_type": "execute_result"
    }
   ],
   "source": [
    "data['C33'].value_counts(normalize=True).sort_index()*100"
   ]
  },
  {
   "cell_type": "code",
   "execution_count": 109,
   "metadata": {},
   "outputs": [
    {
     "data": {
      "text/plain": [
       "1.0    17.50\n",
       "2.0    46.25\n",
       "3.0    15.00\n",
       "4.0    11.25\n",
       "5.0    10.00\n",
       "Name: C34, dtype: float64"
      ]
     },
     "execution_count": 109,
     "metadata": {},
     "output_type": "execute_result"
    }
   ],
   "source": [
    "data['C34'].value_counts(normalize=True).sort_index()*100"
   ]
  },
  {
   "cell_type": "code",
   "execution_count": 110,
   "metadata": {},
   "outputs": [
    {
     "data": {
      "text/plain": [
       "1.0    21.25\n",
       "2.0    20.00\n",
       "3.0    18.75\n",
       "4.0    16.25\n",
       "5.0    23.75\n",
       "Name: C35, dtype: float64"
      ]
     },
     "execution_count": 110,
     "metadata": {},
     "output_type": "execute_result"
    }
   ],
   "source": [
    "data['C35'].value_counts(normalize=True).sort_index()*100"
   ]
  },
  {
   "cell_type": "code",
   "execution_count": 111,
   "metadata": {},
   "outputs": [
    {
     "data": {
      "text/plain": [
       "1.0     7.894737\n",
       "2.0    34.210526\n",
       "3.0    23.684211\n",
       "4.0    30.263158\n",
       "5.0     3.947368\n",
       "Name: C36, dtype: float64"
      ]
     },
     "execution_count": 111,
     "metadata": {},
     "output_type": "execute_result"
    }
   ],
   "source": [
    "data['C36'].value_counts(normalize=True).sort_index()*100"
   ]
  },
  {
   "cell_type": "code",
   "execution_count": 112,
   "metadata": {},
   "outputs": [
    {
     "data": {
      "text/plain": [
       "1.0     3.75\n",
       "2.0    16.25\n",
       "3.0    27.50\n",
       "4.0    33.75\n",
       "5.0    18.75\n",
       "Name: C37, dtype: float64"
      ]
     },
     "execution_count": 112,
     "metadata": {},
     "output_type": "execute_result"
    }
   ],
   "source": [
    "data['C37'].value_counts(normalize=True).sort_index()*100"
   ]
  },
  {
   "cell_type": "code",
   "execution_count": 113,
   "metadata": {},
   "outputs": [
    {
     "data": {
      "text/plain": [
       "1.0    20.00\n",
       "2.0    15.00\n",
       "3.0    20.00\n",
       "4.0    31.25\n",
       "5.0    13.75\n",
       "Name: C38, dtype: float64"
      ]
     },
     "execution_count": 113,
     "metadata": {},
     "output_type": "execute_result"
    }
   ],
   "source": [
    "data['C38'].value_counts(normalize=True).sort_index()*100"
   ]
  },
  {
   "cell_type": "code",
   "execution_count": 114,
   "metadata": {},
   "outputs": [
    {
     "data": {
      "text/plain": [
       "1.0    15.189873\n",
       "2.0    36.708861\n",
       "3.0    26.582278\n",
       "4.0    13.924051\n",
       "5.0     7.594937\n",
       "Name: D39, dtype: float64"
      ]
     },
     "execution_count": 114,
     "metadata": {},
     "output_type": "execute_result"
    }
   ],
   "source": [
    "data['D39'].value_counts(normalize=True).sort_index()*100"
   ]
  },
  {
   "cell_type": "code",
   "execution_count": 115,
   "metadata": {},
   "outputs": [
    {
     "data": {
      "text/plain": [
       "1.0    24.358974\n",
       "2.0    37.179487\n",
       "3.0     5.128205\n",
       "4.0    24.358974\n",
       "5.0     8.974359\n",
       "Name: D40, dtype: float64"
      ]
     },
     "execution_count": 115,
     "metadata": {},
     "output_type": "execute_result"
    }
   ],
   "source": [
    "data['D40'].value_counts(normalize=True).sort_index()*100"
   ]
  },
  {
   "cell_type": "code",
   "execution_count": 116,
   "metadata": {},
   "outputs": [
    {
     "data": {
      "text/plain": [
       "1.0    44.871795\n",
       "2.0    26.923077\n",
       "3.0    19.230769\n",
       "4.0     2.564103\n",
       "5.0     6.410256\n",
       "Name: D41, dtype: float64"
      ]
     },
     "execution_count": 116,
     "metadata": {},
     "output_type": "execute_result"
    }
   ],
   "source": [
    "data['D41'].value_counts(normalize=True).sort_index()*100"
   ]
  },
  {
   "cell_type": "code",
   "execution_count": 117,
   "metadata": {},
   "outputs": [
    {
     "data": {
      "text/plain": [
       "1.0    25.316456\n",
       "2.0    49.367089\n",
       "3.0     3.797468\n",
       "4.0    18.987342\n",
       "5.0     2.531646\n",
       "Name: D42, dtype: float64"
      ]
     },
     "execution_count": 117,
     "metadata": {},
     "output_type": "execute_result"
    }
   ],
   "source": [
    "data['D42'].value_counts(normalize=True).sort_index()*100"
   ]
  },
  {
   "cell_type": "code",
   "execution_count": 118,
   "metadata": {},
   "outputs": [
    {
     "data": {
      "text/plain": [
       "1.0     2.531646\n",
       "2.0    24.050633\n",
       "3.0    37.974684\n",
       "4.0    17.721519\n",
       "5.0    17.721519\n",
       "Name: D43, dtype: float64"
      ]
     },
     "execution_count": 118,
     "metadata": {},
     "output_type": "execute_result"
    }
   ],
   "source": [
    "data['D43'].value_counts(normalize=True).sort_index()*100"
   ]
  },
  {
   "cell_type": "code",
   "execution_count": 119,
   "metadata": {},
   "outputs": [
    {
     "data": {
      "text/plain": [
       "1.0     2.531646\n",
       "2.0    24.050633\n",
       "3.0    37.974684\n",
       "4.0    17.721519\n",
       "5.0    17.721519\n",
       "Name: D43, dtype: float64"
      ]
     },
     "execution_count": 119,
     "metadata": {},
     "output_type": "execute_result"
    }
   ],
   "source": [
    "data['D43'].value_counts(normalize=True).sort_index()*100"
   ]
  },
  {
   "cell_type": "code",
   "execution_count": 120,
   "metadata": {},
   "outputs": [
    {
     "data": {
      "text/plain": [
       "1.0    42.307692\n",
       "2.0    24.358974\n",
       "3.0     7.692308\n",
       "4.0    20.512821\n",
       "5.0     5.128205\n",
       "Name: D44, dtype: float64"
      ]
     },
     "execution_count": 120,
     "metadata": {},
     "output_type": "execute_result"
    }
   ],
   "source": [
    "data['D44'].value_counts(normalize=True).sort_index()*100"
   ]
  },
  {
   "cell_type": "markdown",
   "metadata": {},
   "source": [
    "## Let's do some visuals with our results\n"
   ]
  },
  {
   "cell_type": "code",
   "execution_count": 138,
   "metadata": {},
   "outputs": [
    {
     "data": {
      "image/png": "[encoded data removed]",
      "text/plain": [
       "<Figure size 720x432 with 1 Axes>"
      ]
     },
     "metadata": {},
     "output_type": "display_data"
    }
   ],
   "source": [
    "data['age'].value_counts().plot.bar(color='chartreuse');"
   ]
  },
  {
   "cell_type": "code",
   "execution_count": 161,
   "metadata": {},
   "outputs": [
    {
     "data": {
      "image/png": "[encoded data removed]",
      "text/plain": [
       "<Figure size 720x432 with 1 Axes>"
      ]
     },
     "metadata": {},
     "output_type": "display_data"
    }
   ],
   "source": [
    "data['marital'].value_counts().plot.bar(color='firebrick');"
   ]
  },
  {
   "cell_type": "code",
   "execution_count": 137,
   "metadata": {},
   "outputs": [
    {
     "data": {
      "image/png": "[encoded data removed]",
      "text/plain": [
       "<Figure size 720x432 with 1 Axes>"
      ]
     },
     "metadata": {},
     "output_type": "display_data"
    }
   ],
   "source": [
    "data['education'].value_counts().plot.bar(color='deeppink');"
   ]
  },
  {
   "cell_type": "code",
   "execution_count": 139,
   "metadata": {},
   "outputs": [
    {
     "data": {
      "image/png": "[encoded data removed]",
      "text/plain": [
       "<Figure size 720x432 with 1 Axes>"
      ]
     },
     "metadata": {},
     "output_type": "display_data"
    }
   ],
   "source": [
    "data['gender'].value_counts().plot.bar(color='crimson');"
   ]
  },
  {
   "cell_type": "code",
   "execution_count": 141,
   "metadata": {},
   "outputs": [
    {
     "data": {
      "image/png": "[encoded data removed]",
      "text/plain": [
       "<Figure size 720x432 with 1 Axes>"
      ]
     },
     "metadata": {},
     "output_type": "display_data"
    }
   ],
   "source": [
    "data['service'].value_counts().plot.bar(color='#217689');"
   ]
  },
  {
   "cell_type": "code",
   "execution_count": 143,
   "metadata": {},
   "outputs": [
    {
     "data": {
      "image/png": "[encoded data removed]",
      "text/plain": [
       "<Figure size 720x432 with 1 Axes>"
      ]
     },
     "metadata": {},
     "output_type": "display_data"
    }
   ],
   "source": [
    "data['B6'].value_counts().plot.bar(color='red');"
   ]
  },
  {
   "cell_type": "code",
   "execution_count": 155,
   "metadata": {},
   "outputs": [
    {
     "data": {
      "image/png": "[encoded data removed]",
      "text/plain": [
       "<Figure size 1080x648 with 1 Axes>"
      ]
     },
     "metadata": {},
     "output_type": "display_data"
    }
   ],
   "source": [
    "data['B7'].value_counts().plot(kind = \"pie\",figsize=(15,9), title='pie chart showing the responses to extent to which work pressure puts you on stress',colors=['#66cdaa','#ffd700','firebrick','#44d798','#080808','taobaorange']);"
   ]
  },
  {
   "cell_type": "code",
   "execution_count": 156,
   "metadata": {},
   "outputs": [
    {
     "data": {
      "image/png": "[encoded data removed]",
      "text/plain": [
       "<Figure size 1080x648 with 1 Axes>"
      ]
     },
     "metadata": {},
     "output_type": "display_data"
    }
   ],
   "source": [
    "data['B10'].value_counts().plot(kind = \"pie\",figsize=(15,9), title='pie chart showing the responses to degree of company\\'s concern regarding the health and safety of employees',colors=['#ff8c00','#228b22','chartreuse','#44d798','royalblue','gold']);"
   ]
  },
  {
   "cell_type": "code",
   "execution_count": 166,
   "metadata": {},
   "outputs": [
    {
     "data": {
      "image/png": "[encoded data removed]",
      "text/plain": [
       "<Figure size 720x432 with 1 Axes>"
      ]
     },
     "metadata": {},
     "output_type": "display_data"
    }
   ],
   "source": [
    "data['B15'].value_counts().plot.barh(color='magenta');"
   ]
  },
  {
   "cell_type": "code",
   "execution_count": 168,
   "metadata": {},
   "outputs": [
    {
     "data": {
      "image/png": "[encoded data removed]",
      "text/plain": [
       "<Figure size 720x432 with 1 Axes>"
      ]
     },
     "metadata": {},
     "output_type": "display_data"
    }
   ],
   "source": [
    "data['C35'].value_counts().plot.barh(color='crimson');"
   ]
  },
  {
   "cell_type": "code",
   "execution_count": 220,
   "metadata": {},
   "outputs": [
    {
     "data": {
      "image/png": "[encoded data removed]",
      "text/plain": [
       "<Figure size 720x432 with 1 Axes>"
      ]
     },
     "metadata": {},
     "output_type": "display_data"
    }
   ],
   "source": [
    "data['D40'].value_counts().sort_index().plot.barh(color='seagreen');"
   ]
  },
  {
   "cell_type": "code",
   "execution_count": 157,
   "metadata": {},
   "outputs": [
    {
     "data": {
      "text/plain": [
       "strongly disagree    24\n",
       "agree                17\n",
       "disagree             16\n",
       "undecided            11\n",
       "strongly agree       10\n",
       "Name: Extent of satisfaction about preent working condition, dtype: int64"
      ]
     },
     "execution_count": 157,
     "metadata": {},
     "output_type": "execute_result"
    }
   ],
   "source": [
    "#Pyreadstat enables us to work in terms of the labels for the data frame.\n",
    "data_with_value_labels['Extent of satisfaction about preent working condition'].value_counts()"
   ]
  },
  {
   "cell_type": "code",
   "execution_count": 160,
   "metadata": {},
   "outputs": [
    {
     "data": {
      "image/png": "[encoded data removed]",
      "text/plain": [
       "<Figure size 720x432 with 1 Axes>"
      ]
     },
     "metadata": {},
     "output_type": "display_data"
    }
   ],
   "source": [
    "#Pyreadstat enables us to work in terms of the labels for the data frame.\n",
    "data_with_value_labels['Extent of satisfaction about preent working condition'].value_counts().plot(kind='bar',color='darkred');"
   ]
  },
  {
   "cell_type": "markdown",
   "metadata": {},
   "source": [
    "## creating new columns from the existing columns\n"
   ]
  },
  {
   "cell_type": "code",
   "execution_count": 169,
   "metadata": {},
   "outputs": [],
   "source": [
    "data['well being']=data['B6']+data['B7']+data['B8']+data['B9']+data['B10']"
   ]
  },
  {
   "cell_type": "code",
   "execution_count": 172,
   "metadata": {},
   "outputs": [
    {
     "data": {
      "text/plain": [
       "0    10.0\n",
       "1    12.0\n",
       "Name: well being, dtype: float64"
      ]
     },
     "execution_count": 172,
     "metadata": {},
     "output_type": "execute_result"
    }
   ],
   "source": [
    "data['well being'].head(2)"
   ]
  },
  {
   "cell_type": "code",
   "execution_count": 174,
   "metadata": {},
   "outputs": [],
   "source": [
    "data['relationship with peers']=data['B11']+data['B12']+data['B13']+data['B14']"
   ]
  },
  {
   "cell_type": "code",
   "execution_count": 179,
   "metadata": {},
   "outputs": [],
   "source": [
    "data['relationship with managers']=data['B15']+data['B16']+data['B17']+data['B18']+data['B19']"
   ]
  },
  {
   "cell_type": "code",
   "execution_count": 180,
   "metadata": {},
   "outputs": [],
   "source": [
    "data['compensation']=data['B20']+data['B21']+data['B22']+data['B23']"
   ]
  },
  {
   "cell_type": "code",
   "execution_count": 181,
   "metadata": {},
   "outputs": [],
   "source": [
    "data['work environment']=data['B24']+data['B25']+data['B26']+data['B27']"
   ]
  },
  {
   "cell_type": "code",
   "execution_count": 182,
   "metadata": {},
   "outputs": [],
   "source": [
    "data['TCD']=data['B28']+data['B29']+data['B30']+data['B30']"
   ]
  },
  {
   "cell_type": "code",
   "execution_count": 184,
   "metadata": {},
   "outputs": [],
   "source": [
    "data['effectiveness']=data['C31']+data['C32']+data['C33']+data['C34']"
   ]
  },
  {
   "cell_type": "code",
   "execution_count": 186,
   "metadata": {},
   "outputs": [],
   "source": [
    "data['efficiency']=data['C35']+data['C36']+data['C37']+data['C38']"
   ]
  },
  {
   "cell_type": "code",
   "execution_count": 187,
   "metadata": {},
   "outputs": [],
   "source": [
    "data['indiv']=data['D39']+data['D40']"
   ]
  },
  {
   "cell_type": "code",
   "execution_count": 188,
   "metadata": {},
   "outputs": [],
   "source": [
    "data['job characteristics']=data['D41']+data['D42']"
   ]
  },
  {
   "cell_type": "code",
   "execution_count": 190,
   "metadata": {},
   "outputs": [],
   "source": [
    "data['org']=data['D43']+data['D44']"
   ]
  },
  {
   "cell_type": "code",
   "execution_count": 177,
   "metadata": {},
   "outputs": [],
   "source": [
    "data=data.fillna(0)"
   ]
  },
  {
   "cell_type": "code",
   "execution_count": 191,
   "metadata": {},
   "outputs": [
    {
     "data": {
      "text/html": [
       "<div>\n",
       "<style scoped>\n",
       "    .dataframe tbody tr th:only-of-type {\n",
       "        vertical-align: middle;\n",
       "    }\n",
       "\n",
       "    .dataframe tbody tr th {\n",
       "        vertical-align: top;\n",
       "    }\n",
       "\n",
       "    .dataframe thead th {\n",
       "        text-align: right;\n",
       "    }\n",
       "</style>\n",
       "<table border=\"1\" class=\"dataframe\">\n",
       "  <thead>\n",
       "    <tr style=\"text-align: right;\">\n",
       "      <th></th>\n",
       "      <th>gender</th>\n",
       "      <th>marital</th>\n",
       "      <th>age</th>\n",
       "      <th>education</th>\n",
       "      <th>service</th>\n",
       "      <th>B6</th>\n",
       "      <th>B7</th>\n",
       "      <th>B8</th>\n",
       "      <th>B9</th>\n",
       "      <th>B10</th>\n",
       "      <th>B11</th>\n",
       "      <th>B12</th>\n",
       "      <th>B13</th>\n",
       "      <th>B14</th>\n",
       "      <th>B15</th>\n",
       "      <th>B16</th>\n",
       "      <th>B17</th>\n",
       "      <th>B18</th>\n",
       "      <th>B19</th>\n",
       "      <th>B20</th>\n",
       "      <th>B21</th>\n",
       "      <th>B22</th>\n",
       "      <th>B23</th>\n",
       "      <th>B24</th>\n",
       "      <th>B25</th>\n",
       "      <th>B26</th>\n",
       "      <th>B27</th>\n",
       "      <th>B28</th>\n",
       "      <th>B29</th>\n",
       "      <th>B30</th>\n",
       "      <th>C31</th>\n",
       "      <th>C32</th>\n",
       "      <th>C33</th>\n",
       "      <th>C34</th>\n",
       "      <th>C35</th>\n",
       "      <th>C36</th>\n",
       "      <th>C37</th>\n",
       "      <th>C38</th>\n",
       "      <th>D39</th>\n",
       "      <th>D40</th>\n",
       "      <th>D41</th>\n",
       "      <th>D42</th>\n",
       "      <th>D43</th>\n",
       "      <th>D44</th>\n",
       "      <th>well being</th>\n",
       "      <th>relationship with peers</th>\n",
       "      <th>relationship with managers</th>\n",
       "      <th>compensation</th>\n",
       "      <th>work environment</th>\n",
       "      <th>TCD</th>\n",
       "      <th>effectiveness</th>\n",
       "      <th>efficiency</th>\n",
       "      <th>indiv</th>\n",
       "      <th>job characteristics</th>\n",
       "      <th>org</th>\n",
       "    </tr>\n",
       "  </thead>\n",
       "  <tbody>\n",
       "    <tr>\n",
       "      <th>0</th>\n",
       "      <td>1</td>\n",
       "      <td>1.0</td>\n",
       "      <td>2.0</td>\n",
       "      <td>1.0</td>\n",
       "      <td>2.0</td>\n",
       "      <td>2.0</td>\n",
       "      <td>2.0</td>\n",
       "      <td>2.0</td>\n",
       "      <td>2.0</td>\n",
       "      <td>2.0</td>\n",
       "      <td>1.0</td>\n",
       "      <td>1.0</td>\n",
       "      <td>1.0</td>\n",
       "      <td>4.0</td>\n",
       "      <td>2.0</td>\n",
       "      <td>2.0</td>\n",
       "      <td>2.0</td>\n",
       "      <td>1.0</td>\n",
       "      <td>2.0</td>\n",
       "      <td>2.0</td>\n",
       "      <td>1.0</td>\n",
       "      <td>2.0</td>\n",
       "      <td>2.0</td>\n",
       "      <td>2.0</td>\n",
       "      <td>2.0</td>\n",
       "      <td>2.0</td>\n",
       "      <td>2.0</td>\n",
       "      <td>3.0</td>\n",
       "      <td>3.0</td>\n",
       "      <td>3.0</td>\n",
       "      <td>2.0</td>\n",
       "      <td>3.0</td>\n",
       "      <td>2.0</td>\n",
       "      <td>3.0</td>\n",
       "      <td>2.0</td>\n",
       "      <td>3.0</td>\n",
       "      <td>2.0</td>\n",
       "      <td>2.0</td>\n",
       "      <td>1.0</td>\n",
       "      <td>4.0</td>\n",
       "      <td>1.0</td>\n",
       "      <td>2.0</td>\n",
       "      <td>2.0</td>\n",
       "      <td>4.0</td>\n",
       "      <td>10.0</td>\n",
       "      <td>7.0</td>\n",
       "      <td>9.0</td>\n",
       "      <td>7.0</td>\n",
       "      <td>8.0</td>\n",
       "      <td>12.0</td>\n",
       "      <td>10.0</td>\n",
       "      <td>9.0</td>\n",
       "      <td>5.0</td>\n",
       "      <td>3.0</td>\n",
       "      <td>6.0</td>\n",
       "    </tr>\n",
       "    <tr>\n",
       "      <th>1</th>\n",
       "      <td>1</td>\n",
       "      <td>1.0</td>\n",
       "      <td>1.0</td>\n",
       "      <td>1.0</td>\n",
       "      <td>1.0</td>\n",
       "      <td>2.0</td>\n",
       "      <td>3.0</td>\n",
       "      <td>3.0</td>\n",
       "      <td>3.0</td>\n",
       "      <td>1.0</td>\n",
       "      <td>2.0</td>\n",
       "      <td>3.0</td>\n",
       "      <td>3.0</td>\n",
       "      <td>4.0</td>\n",
       "      <td>3.0</td>\n",
       "      <td>5.0</td>\n",
       "      <td>3.0</td>\n",
       "      <td>1.0</td>\n",
       "      <td>2.0</td>\n",
       "      <td>5.0</td>\n",
       "      <td>2.0</td>\n",
       "      <td>2.0</td>\n",
       "      <td>5.0</td>\n",
       "      <td>2.0</td>\n",
       "      <td>3.0</td>\n",
       "      <td>2.0</td>\n",
       "      <td>3.0</td>\n",
       "      <td>4.0</td>\n",
       "      <td>3.0</td>\n",
       "      <td>3.0</td>\n",
       "      <td>3.0</td>\n",
       "      <td>3.0</td>\n",
       "      <td>3.0</td>\n",
       "      <td>4.0</td>\n",
       "      <td>2.0</td>\n",
       "      <td>3.0</td>\n",
       "      <td>3.0</td>\n",
       "      <td>3.0</td>\n",
       "      <td>3.0</td>\n",
       "      <td>4.0</td>\n",
       "      <td>3.0</td>\n",
       "      <td>2.0</td>\n",
       "      <td>3.0</td>\n",
       "      <td>3.0</td>\n",
       "      <td>12.0</td>\n",
       "      <td>12.0</td>\n",
       "      <td>14.0</td>\n",
       "      <td>14.0</td>\n",
       "      <td>10.0</td>\n",
       "      <td>13.0</td>\n",
       "      <td>13.0</td>\n",
       "      <td>11.0</td>\n",
       "      <td>7.0</td>\n",
       "      <td>5.0</td>\n",
       "      <td>6.0</td>\n",
       "    </tr>\n",
       "    <tr>\n",
       "      <th>2</th>\n",
       "      <td>1</td>\n",
       "      <td>1.0</td>\n",
       "      <td>1.0</td>\n",
       "      <td>1.0</td>\n",
       "      <td>2.0</td>\n",
       "      <td>4.0</td>\n",
       "      <td>1.0</td>\n",
       "      <td>2.0</td>\n",
       "      <td>4.0</td>\n",
       "      <td>2.0</td>\n",
       "      <td>0.0</td>\n",
       "      <td>2.0</td>\n",
       "      <td>3.0</td>\n",
       "      <td>3.0</td>\n",
       "      <td>2.0</td>\n",
       "      <td>2.0</td>\n",
       "      <td>0.0</td>\n",
       "      <td>1.0</td>\n",
       "      <td>1.0</td>\n",
       "      <td>4.0</td>\n",
       "      <td>2.0</td>\n",
       "      <td>2.0</td>\n",
       "      <td>5.0</td>\n",
       "      <td>4.0</td>\n",
       "      <td>2.0</td>\n",
       "      <td>3.0</td>\n",
       "      <td>2.0</td>\n",
       "      <td>5.0</td>\n",
       "      <td>2.0</td>\n",
       "      <td>2.0</td>\n",
       "      <td>2.0</td>\n",
       "      <td>2.0</td>\n",
       "      <td>2.0</td>\n",
       "      <td>3.0</td>\n",
       "      <td>3.0</td>\n",
       "      <td>3.0</td>\n",
       "      <td>3.0</td>\n",
       "      <td>2.0</td>\n",
       "      <td>5.0</td>\n",
       "      <td>4.0</td>\n",
       "      <td>3.0</td>\n",
       "      <td>2.0</td>\n",
       "      <td>3.0</td>\n",
       "      <td>4.0</td>\n",
       "      <td>13.0</td>\n",
       "      <td>0.0</td>\n",
       "      <td>6.0</td>\n",
       "      <td>13.0</td>\n",
       "      <td>11.0</td>\n",
       "      <td>11.0</td>\n",
       "      <td>9.0</td>\n",
       "      <td>11.0</td>\n",
       "      <td>9.0</td>\n",
       "      <td>5.0</td>\n",
       "      <td>7.0</td>\n",
       "    </tr>\n",
       "    <tr>\n",
       "      <th>3</th>\n",
       "      <td>2</td>\n",
       "      <td>1.0</td>\n",
       "      <td>1.0</td>\n",
       "      <td>2.0</td>\n",
       "      <td>2.0</td>\n",
       "      <td>4.0</td>\n",
       "      <td>3.0</td>\n",
       "      <td>2.0</td>\n",
       "      <td>5.0</td>\n",
       "      <td>1.0</td>\n",
       "      <td>2.0</td>\n",
       "      <td>1.0</td>\n",
       "      <td>3.0</td>\n",
       "      <td>3.0</td>\n",
       "      <td>4.0</td>\n",
       "      <td>1.0</td>\n",
       "      <td>0.0</td>\n",
       "      <td>1.0</td>\n",
       "      <td>4.0</td>\n",
       "      <td>3.0</td>\n",
       "      <td>3.0</td>\n",
       "      <td>2.0</td>\n",
       "      <td>4.0</td>\n",
       "      <td>4.0</td>\n",
       "      <td>2.0</td>\n",
       "      <td>1.0</td>\n",
       "      <td>2.0</td>\n",
       "      <td>5.0</td>\n",
       "      <td>2.0</td>\n",
       "      <td>2.0</td>\n",
       "      <td>2.0</td>\n",
       "      <td>2.0</td>\n",
       "      <td>1.0</td>\n",
       "      <td>2.0</td>\n",
       "      <td>2.0</td>\n",
       "      <td>3.0</td>\n",
       "      <td>2.0</td>\n",
       "      <td>2.0</td>\n",
       "      <td>4.0</td>\n",
       "      <td>4.0</td>\n",
       "      <td>3.0</td>\n",
       "      <td>2.0</td>\n",
       "      <td>3.0</td>\n",
       "      <td>4.0</td>\n",
       "      <td>15.0</td>\n",
       "      <td>9.0</td>\n",
       "      <td>10.0</td>\n",
       "      <td>12.0</td>\n",
       "      <td>9.0</td>\n",
       "      <td>11.0</td>\n",
       "      <td>7.0</td>\n",
       "      <td>9.0</td>\n",
       "      <td>8.0</td>\n",
       "      <td>5.0</td>\n",
       "      <td>7.0</td>\n",
       "    </tr>\n",
       "    <tr>\n",
       "      <th>4</th>\n",
       "      <td>2</td>\n",
       "      <td>2.0</td>\n",
       "      <td>1.0</td>\n",
       "      <td>3.0</td>\n",
       "      <td>2.0</td>\n",
       "      <td>3.0</td>\n",
       "      <td>5.0</td>\n",
       "      <td>1.0</td>\n",
       "      <td>3.0</td>\n",
       "      <td>3.0</td>\n",
       "      <td>2.0</td>\n",
       "      <td>1.0</td>\n",
       "      <td>4.0</td>\n",
       "      <td>3.0</td>\n",
       "      <td>4.0</td>\n",
       "      <td>0.0</td>\n",
       "      <td>0.0</td>\n",
       "      <td>2.0</td>\n",
       "      <td>4.0</td>\n",
       "      <td>4.0</td>\n",
       "      <td>4.0</td>\n",
       "      <td>2.0</td>\n",
       "      <td>4.0</td>\n",
       "      <td>5.0</td>\n",
       "      <td>4.0</td>\n",
       "      <td>3.0</td>\n",
       "      <td>2.0</td>\n",
       "      <td>4.0</td>\n",
       "      <td>4.0</td>\n",
       "      <td>4.0</td>\n",
       "      <td>1.0</td>\n",
       "      <td>1.0</td>\n",
       "      <td>2.0</td>\n",
       "      <td>2.0</td>\n",
       "      <td>2.0</td>\n",
       "      <td>4.0</td>\n",
       "      <td>2.0</td>\n",
       "      <td>1.0</td>\n",
       "      <td>3.0</td>\n",
       "      <td>4.0</td>\n",
       "      <td>3.0</td>\n",
       "      <td>4.0</td>\n",
       "      <td>3.0</td>\n",
       "      <td>4.0</td>\n",
       "      <td>15.0</td>\n",
       "      <td>10.0</td>\n",
       "      <td>10.0</td>\n",
       "      <td>14.0</td>\n",
       "      <td>14.0</td>\n",
       "      <td>16.0</td>\n",
       "      <td>6.0</td>\n",
       "      <td>9.0</td>\n",
       "      <td>7.0</td>\n",
       "      <td>7.0</td>\n",
       "      <td>7.0</td>\n",
       "    </tr>\n",
       "  </tbody>\n",
       "</table>\n",
       "</div>"
      ],
      "text/plain": [
       "  gender  marital  age  education  service   B6   B7   B8   B9  B10  B11  B12  \\\n",
       "0      1      1.0  2.0        1.0      2.0  2.0  2.0  2.0  2.0  2.0  1.0  1.0   \n",
       "1      1      1.0  1.0        1.0      1.0  2.0  3.0  3.0  3.0  1.0  2.0  3.0   \n",
       "2      1      1.0  1.0        1.0      2.0  4.0  1.0  2.0  4.0  2.0  0.0  2.0   \n",
       "3      2      1.0  1.0        2.0      2.0  4.0  3.0  2.0  5.0  1.0  2.0  1.0   \n",
       "4      2      2.0  1.0        3.0      2.0  3.0  5.0  1.0  3.0  3.0  2.0  1.0   \n",
       "\n",
       "   B13  B14  B15  B16  B17  B18  B19  B20  B21  B22  B23  B24  B25  B26  B27  \\\n",
       "0  1.0  4.0  2.0  2.0  2.0  1.0  2.0  2.0  1.0  2.0  2.0  2.0  2.0  2.0  2.0   \n",
       "1  3.0  4.0  3.0  5.0  3.0  1.0  2.0  5.0  2.0  2.0  5.0  2.0  3.0  2.0  3.0   \n",
       "2  3.0  3.0  2.0  2.0  0.0  1.0  1.0  4.0  2.0  2.0  5.0  4.0  2.0  3.0  2.0   \n",
       "3  3.0  3.0  4.0  1.0  0.0  1.0  4.0  3.0  3.0  2.0  4.0  4.0  2.0  1.0  2.0   \n",
       "4  4.0  3.0  4.0  0.0  0.0  2.0  4.0  4.0  4.0  2.0  4.0  5.0  4.0  3.0  2.0   \n",
       "\n",
       "   B28  B29  B30  C31  C32  C33  C34  C35  C36  C37  C38  D39  D40  D41  D42  \\\n",
       "0  3.0  3.0  3.0  2.0  3.0  2.0  3.0  2.0  3.0  2.0  2.0  1.0  4.0  1.0  2.0   \n",
       "1  4.0  3.0  3.0  3.0  3.0  3.0  4.0  2.0  3.0  3.0  3.0  3.0  4.0  3.0  2.0   \n",
       "2  5.0  2.0  2.0  2.0  2.0  2.0  3.0  3.0  3.0  3.0  2.0  5.0  4.0  3.0  2.0   \n",
       "3  5.0  2.0  2.0  2.0  2.0  1.0  2.0  2.0  3.0  2.0  2.0  4.0  4.0  3.0  2.0   \n",
       "4  4.0  4.0  4.0  1.0  1.0  2.0  2.0  2.0  4.0  2.0  1.0  3.0  4.0  3.0  4.0   \n",
       "\n",
       "   D43  D44  well being  relationship with peers  relationship with managers  \\\n",
       "0  2.0  4.0        10.0                      7.0                         9.0   \n",
       "1  3.0  3.0        12.0                     12.0                        14.0   \n",
       "2  3.0  4.0        13.0                      0.0                         6.0   \n",
       "3  3.0  4.0        15.0                      9.0                        10.0   \n",
       "4  3.0  4.0        15.0                     10.0                        10.0   \n",
       "\n",
       "   compensation  work environment   TCD  effectiveness  efficiency  indiv  \\\n",
       "0           7.0               8.0  12.0           10.0         9.0    5.0   \n",
       "1          14.0              10.0  13.0           13.0        11.0    7.0   \n",
       "2          13.0              11.0  11.0            9.0        11.0    9.0   \n",
       "3          12.0               9.0  11.0            7.0         9.0    8.0   \n",
       "4          14.0              14.0  16.0            6.0         9.0    7.0   \n",
       "\n",
       "   job characteristics  org  \n",
       "0                  3.0  6.0  \n",
       "1                  5.0  6.0  \n",
       "2                  5.0  7.0  \n",
       "3                  5.0  7.0  \n",
       "4                  7.0  7.0  "
      ]
     },
     "execution_count": 191,
     "metadata": {},
     "output_type": "execute_result"
    }
   ],
   "source": [
    "data.head()"
   ]
  },
  {
   "cell_type": "code",
   "execution_count": 192,
   "metadata": {},
   "outputs": [],
   "source": [
    "data['perf']=data['effectiveness']+data['efficiency']"
   ]
  },
  {
   "cell_type": "code",
   "execution_count": 193,
   "metadata": {},
   "outputs": [
    {
     "data": {
      "text/html": [
       "<div>\n",
       "<style scoped>\n",
       "    .dataframe tbody tr th:only-of-type {\n",
       "        vertical-align: middle;\n",
       "    }\n",
       "\n",
       "    .dataframe tbody tr th {\n",
       "        vertical-align: top;\n",
       "    }\n",
       "\n",
       "    .dataframe thead th {\n",
       "        text-align: right;\n",
       "    }\n",
       "</style>\n",
       "<table border=\"1\" class=\"dataframe\">\n",
       "  <thead>\n",
       "    <tr style=\"text-align: right;\">\n",
       "      <th></th>\n",
       "      <th>gender</th>\n",
       "      <th>marital</th>\n",
       "      <th>age</th>\n",
       "      <th>education</th>\n",
       "      <th>service</th>\n",
       "      <th>B6</th>\n",
       "      <th>B7</th>\n",
       "      <th>B8</th>\n",
       "      <th>B9</th>\n",
       "      <th>B10</th>\n",
       "      <th>B11</th>\n",
       "      <th>B12</th>\n",
       "      <th>B13</th>\n",
       "      <th>B14</th>\n",
       "      <th>B15</th>\n",
       "      <th>B16</th>\n",
       "      <th>B17</th>\n",
       "      <th>B18</th>\n",
       "      <th>B19</th>\n",
       "      <th>B20</th>\n",
       "      <th>B21</th>\n",
       "      <th>B22</th>\n",
       "      <th>B23</th>\n",
       "      <th>B24</th>\n",
       "      <th>B25</th>\n",
       "      <th>B26</th>\n",
       "      <th>B27</th>\n",
       "      <th>B28</th>\n",
       "      <th>B29</th>\n",
       "      <th>B30</th>\n",
       "      <th>C31</th>\n",
       "      <th>C32</th>\n",
       "      <th>C33</th>\n",
       "      <th>C34</th>\n",
       "      <th>C35</th>\n",
       "      <th>C36</th>\n",
       "      <th>C37</th>\n",
       "      <th>C38</th>\n",
       "      <th>D39</th>\n",
       "      <th>D40</th>\n",
       "      <th>D41</th>\n",
       "      <th>D42</th>\n",
       "      <th>D43</th>\n",
       "      <th>D44</th>\n",
       "      <th>well being</th>\n",
       "      <th>relationship with peers</th>\n",
       "      <th>relationship with managers</th>\n",
       "      <th>compensation</th>\n",
       "      <th>work environment</th>\n",
       "      <th>TCD</th>\n",
       "      <th>effectiveness</th>\n",
       "      <th>efficiency</th>\n",
       "      <th>indiv</th>\n",
       "      <th>job characteristics</th>\n",
       "      <th>org</th>\n",
       "      <th>perf</th>\n",
       "    </tr>\n",
       "  </thead>\n",
       "  <tbody>\n",
       "    <tr>\n",
       "      <th>0</th>\n",
       "      <td>1</td>\n",
       "      <td>1.0</td>\n",
       "      <td>2.0</td>\n",
       "      <td>1.0</td>\n",
       "      <td>2.0</td>\n",
       "      <td>2.0</td>\n",
       "      <td>2.0</td>\n",
       "      <td>2.0</td>\n",
       "      <td>2.0</td>\n",
       "      <td>2.0</td>\n",
       "      <td>1.0</td>\n",
       "      <td>1.0</td>\n",
       "      <td>1.0</td>\n",
       "      <td>4.0</td>\n",
       "      <td>2.0</td>\n",
       "      <td>2.0</td>\n",
       "      <td>2.0</td>\n",
       "      <td>1.0</td>\n",
       "      <td>2.0</td>\n",
       "      <td>2.0</td>\n",
       "      <td>1.0</td>\n",
       "      <td>2.0</td>\n",
       "      <td>2.0</td>\n",
       "      <td>2.0</td>\n",
       "      <td>2.0</td>\n",
       "      <td>2.0</td>\n",
       "      <td>2.0</td>\n",
       "      <td>3.0</td>\n",
       "      <td>3.0</td>\n",
       "      <td>3.0</td>\n",
       "      <td>2.0</td>\n",
       "      <td>3.0</td>\n",
       "      <td>2.0</td>\n",
       "      <td>3.0</td>\n",
       "      <td>2.0</td>\n",
       "      <td>3.0</td>\n",
       "      <td>2.0</td>\n",
       "      <td>2.0</td>\n",
       "      <td>1.0</td>\n",
       "      <td>4.0</td>\n",
       "      <td>1.0</td>\n",
       "      <td>2.0</td>\n",
       "      <td>2.0</td>\n",
       "      <td>4.0</td>\n",
       "      <td>10.0</td>\n",
       "      <td>7.0</td>\n",
       "      <td>9.0</td>\n",
       "      <td>7.0</td>\n",
       "      <td>8.0</td>\n",
       "      <td>12.0</td>\n",
       "      <td>10.0</td>\n",
       "      <td>9.0</td>\n",
       "      <td>5.0</td>\n",
       "      <td>3.0</td>\n",
       "      <td>6.0</td>\n",
       "      <td>19.0</td>\n",
       "    </tr>\n",
       "    <tr>\n",
       "      <th>1</th>\n",
       "      <td>1</td>\n",
       "      <td>1.0</td>\n",
       "      <td>1.0</td>\n",
       "      <td>1.0</td>\n",
       "      <td>1.0</td>\n",
       "      <td>2.0</td>\n",
       "      <td>3.0</td>\n",
       "      <td>3.0</td>\n",
       "      <td>3.0</td>\n",
       "      <td>1.0</td>\n",
       "      <td>2.0</td>\n",
       "      <td>3.0</td>\n",
       "      <td>3.0</td>\n",
       "      <td>4.0</td>\n",
       "      <td>3.0</td>\n",
       "      <td>5.0</td>\n",
       "      <td>3.0</td>\n",
       "      <td>1.0</td>\n",
       "      <td>2.0</td>\n",
       "      <td>5.0</td>\n",
       "      <td>2.0</td>\n",
       "      <td>2.0</td>\n",
       "      <td>5.0</td>\n",
       "      <td>2.0</td>\n",
       "      <td>3.0</td>\n",
       "      <td>2.0</td>\n",
       "      <td>3.0</td>\n",
       "      <td>4.0</td>\n",
       "      <td>3.0</td>\n",
       "      <td>3.0</td>\n",
       "      <td>3.0</td>\n",
       "      <td>3.0</td>\n",
       "      <td>3.0</td>\n",
       "      <td>4.0</td>\n",
       "      <td>2.0</td>\n",
       "      <td>3.0</td>\n",
       "      <td>3.0</td>\n",
       "      <td>3.0</td>\n",
       "      <td>3.0</td>\n",
       "      <td>4.0</td>\n",
       "      <td>3.0</td>\n",
       "      <td>2.0</td>\n",
       "      <td>3.0</td>\n",
       "      <td>3.0</td>\n",
       "      <td>12.0</td>\n",
       "      <td>12.0</td>\n",
       "      <td>14.0</td>\n",
       "      <td>14.0</td>\n",
       "      <td>10.0</td>\n",
       "      <td>13.0</td>\n",
       "      <td>13.0</td>\n",
       "      <td>11.0</td>\n",
       "      <td>7.0</td>\n",
       "      <td>5.0</td>\n",
       "      <td>6.0</td>\n",
       "      <td>24.0</td>\n",
       "    </tr>\n",
       "    <tr>\n",
       "      <th>2</th>\n",
       "      <td>1</td>\n",
       "      <td>1.0</td>\n",
       "      <td>1.0</td>\n",
       "      <td>1.0</td>\n",
       "      <td>2.0</td>\n",
       "      <td>4.0</td>\n",
       "      <td>1.0</td>\n",
       "      <td>2.0</td>\n",
       "      <td>4.0</td>\n",
       "      <td>2.0</td>\n",
       "      <td>0.0</td>\n",
       "      <td>2.0</td>\n",
       "      <td>3.0</td>\n",
       "      <td>3.0</td>\n",
       "      <td>2.0</td>\n",
       "      <td>2.0</td>\n",
       "      <td>0.0</td>\n",
       "      <td>1.0</td>\n",
       "      <td>1.0</td>\n",
       "      <td>4.0</td>\n",
       "      <td>2.0</td>\n",
       "      <td>2.0</td>\n",
       "      <td>5.0</td>\n",
       "      <td>4.0</td>\n",
       "      <td>2.0</td>\n",
       "      <td>3.0</td>\n",
       "      <td>2.0</td>\n",
       "      <td>5.0</td>\n",
       "      <td>2.0</td>\n",
       "      <td>2.0</td>\n",
       "      <td>2.0</td>\n",
       "      <td>2.0</td>\n",
       "      <td>2.0</td>\n",
       "      <td>3.0</td>\n",
       "      <td>3.0</td>\n",
       "      <td>3.0</td>\n",
       "      <td>3.0</td>\n",
       "      <td>2.0</td>\n",
       "      <td>5.0</td>\n",
       "      <td>4.0</td>\n",
       "      <td>3.0</td>\n",
       "      <td>2.0</td>\n",
       "      <td>3.0</td>\n",
       "      <td>4.0</td>\n",
       "      <td>13.0</td>\n",
       "      <td>0.0</td>\n",
       "      <td>6.0</td>\n",
       "      <td>13.0</td>\n",
       "      <td>11.0</td>\n",
       "      <td>11.0</td>\n",
       "      <td>9.0</td>\n",
       "      <td>11.0</td>\n",
       "      <td>9.0</td>\n",
       "      <td>5.0</td>\n",
       "      <td>7.0</td>\n",
       "      <td>20.0</td>\n",
       "    </tr>\n",
       "    <tr>\n",
       "      <th>3</th>\n",
       "      <td>2</td>\n",
       "      <td>1.0</td>\n",
       "      <td>1.0</td>\n",
       "      <td>2.0</td>\n",
       "      <td>2.0</td>\n",
       "      <td>4.0</td>\n",
       "      <td>3.0</td>\n",
       "      <td>2.0</td>\n",
       "      <td>5.0</td>\n",
       "      <td>1.0</td>\n",
       "      <td>2.0</td>\n",
       "      <td>1.0</td>\n",
       "      <td>3.0</td>\n",
       "      <td>3.0</td>\n",
       "      <td>4.0</td>\n",
       "      <td>1.0</td>\n",
       "      <td>0.0</td>\n",
       "      <td>1.0</td>\n",
       "      <td>4.0</td>\n",
       "      <td>3.0</td>\n",
       "      <td>3.0</td>\n",
       "      <td>2.0</td>\n",
       "      <td>4.0</td>\n",
       "      <td>4.0</td>\n",
       "      <td>2.0</td>\n",
       "      <td>1.0</td>\n",
       "      <td>2.0</td>\n",
       "      <td>5.0</td>\n",
       "      <td>2.0</td>\n",
       "      <td>2.0</td>\n",
       "      <td>2.0</td>\n",
       "      <td>2.0</td>\n",
       "      <td>1.0</td>\n",
       "      <td>2.0</td>\n",
       "      <td>2.0</td>\n",
       "      <td>3.0</td>\n",
       "      <td>2.0</td>\n",
       "      <td>2.0</td>\n",
       "      <td>4.0</td>\n",
       "      <td>4.0</td>\n",
       "      <td>3.0</td>\n",
       "      <td>2.0</td>\n",
       "      <td>3.0</td>\n",
       "      <td>4.0</td>\n",
       "      <td>15.0</td>\n",
       "      <td>9.0</td>\n",
       "      <td>10.0</td>\n",
       "      <td>12.0</td>\n",
       "      <td>9.0</td>\n",
       "      <td>11.0</td>\n",
       "      <td>7.0</td>\n",
       "      <td>9.0</td>\n",
       "      <td>8.0</td>\n",
       "      <td>5.0</td>\n",
       "      <td>7.0</td>\n",
       "      <td>16.0</td>\n",
       "    </tr>\n",
       "    <tr>\n",
       "      <th>4</th>\n",
       "      <td>2</td>\n",
       "      <td>2.0</td>\n",
       "      <td>1.0</td>\n",
       "      <td>3.0</td>\n",
       "      <td>2.0</td>\n",
       "      <td>3.0</td>\n",
       "      <td>5.0</td>\n",
       "      <td>1.0</td>\n",
       "      <td>3.0</td>\n",
       "      <td>3.0</td>\n",
       "      <td>2.0</td>\n",
       "      <td>1.0</td>\n",
       "      <td>4.0</td>\n",
       "      <td>3.0</td>\n",
       "      <td>4.0</td>\n",
       "      <td>0.0</td>\n",
       "      <td>0.0</td>\n",
       "      <td>2.0</td>\n",
       "      <td>4.0</td>\n",
       "      <td>4.0</td>\n",
       "      <td>4.0</td>\n",
       "      <td>2.0</td>\n",
       "      <td>4.0</td>\n",
       "      <td>5.0</td>\n",
       "      <td>4.0</td>\n",
       "      <td>3.0</td>\n",
       "      <td>2.0</td>\n",
       "      <td>4.0</td>\n",
       "      <td>4.0</td>\n",
       "      <td>4.0</td>\n",
       "      <td>1.0</td>\n",
       "      <td>1.0</td>\n",
       "      <td>2.0</td>\n",
       "      <td>2.0</td>\n",
       "      <td>2.0</td>\n",
       "      <td>4.0</td>\n",
       "      <td>2.0</td>\n",
       "      <td>1.0</td>\n",
       "      <td>3.0</td>\n",
       "      <td>4.0</td>\n",
       "      <td>3.0</td>\n",
       "      <td>4.0</td>\n",
       "      <td>3.0</td>\n",
       "      <td>4.0</td>\n",
       "      <td>15.0</td>\n",
       "      <td>10.0</td>\n",
       "      <td>10.0</td>\n",
       "      <td>14.0</td>\n",
       "      <td>14.0</td>\n",
       "      <td>16.0</td>\n",
       "      <td>6.0</td>\n",
       "      <td>9.0</td>\n",
       "      <td>7.0</td>\n",
       "      <td>7.0</td>\n",
       "      <td>7.0</td>\n",
       "      <td>15.0</td>\n",
       "    </tr>\n",
       "  </tbody>\n",
       "</table>\n",
       "</div>"
      ],
      "text/plain": [
       "  gender  marital  age  education  service   B6   B7   B8   B9  B10  B11  B12  \\\n",
       "0      1      1.0  2.0        1.0      2.0  2.0  2.0  2.0  2.0  2.0  1.0  1.0   \n",
       "1      1      1.0  1.0        1.0      1.0  2.0  3.0  3.0  3.0  1.0  2.0  3.0   \n",
       "2      1      1.0  1.0        1.0      2.0  4.0  1.0  2.0  4.0  2.0  0.0  2.0   \n",
       "3      2      1.0  1.0        2.0      2.0  4.0  3.0  2.0  5.0  1.0  2.0  1.0   \n",
       "4      2      2.0  1.0        3.0      2.0  3.0  5.0  1.0  3.0  3.0  2.0  1.0   \n",
       "\n",
       "   B13  B14  B15  B16  B17  B18  B19  B20  B21  B22  B23  B24  B25  B26  B27  \\\n",
       "0  1.0  4.0  2.0  2.0  2.0  1.0  2.0  2.0  1.0  2.0  2.0  2.0  2.0  2.0  2.0   \n",
       "1  3.0  4.0  3.0  5.0  3.0  1.0  2.0  5.0  2.0  2.0  5.0  2.0  3.0  2.0  3.0   \n",
       "2  3.0  3.0  2.0  2.0  0.0  1.0  1.0  4.0  2.0  2.0  5.0  4.0  2.0  3.0  2.0   \n",
       "3  3.0  3.0  4.0  1.0  0.0  1.0  4.0  3.0  3.0  2.0  4.0  4.0  2.0  1.0  2.0   \n",
       "4  4.0  3.0  4.0  0.0  0.0  2.0  4.0  4.0  4.0  2.0  4.0  5.0  4.0  3.0  2.0   \n",
       "\n",
       "   B28  B29  B30  C31  C32  C33  C34  C35  C36  C37  C38  D39  D40  D41  D42  \\\n",
       "0  3.0  3.0  3.0  2.0  3.0  2.0  3.0  2.0  3.0  2.0  2.0  1.0  4.0  1.0  2.0   \n",
       "1  4.0  3.0  3.0  3.0  3.0  3.0  4.0  2.0  3.0  3.0  3.0  3.0  4.0  3.0  2.0   \n",
       "2  5.0  2.0  2.0  2.0  2.0  2.0  3.0  3.0  3.0  3.0  2.0  5.0  4.0  3.0  2.0   \n",
       "3  5.0  2.0  2.0  2.0  2.0  1.0  2.0  2.0  3.0  2.0  2.0  4.0  4.0  3.0  2.0   \n",
       "4  4.0  4.0  4.0  1.0  1.0  2.0  2.0  2.0  4.0  2.0  1.0  3.0  4.0  3.0  4.0   \n",
       "\n",
       "   D43  D44  well being  relationship with peers  relationship with managers  \\\n",
       "0  2.0  4.0        10.0                      7.0                         9.0   \n",
       "1  3.0  3.0        12.0                     12.0                        14.0   \n",
       "2  3.0  4.0        13.0                      0.0                         6.0   \n",
       "3  3.0  4.0        15.0                      9.0                        10.0   \n",
       "4  3.0  4.0        15.0                     10.0                        10.0   \n",
       "\n",
       "   compensation  work environment   TCD  effectiveness  efficiency  indiv  \\\n",
       "0           7.0               8.0  12.0           10.0         9.0    5.0   \n",
       "1          14.0              10.0  13.0           13.0        11.0    7.0   \n",
       "2          13.0              11.0  11.0            9.0        11.0    9.0   \n",
       "3          12.0               9.0  11.0            7.0         9.0    8.0   \n",
       "4          14.0              14.0  16.0            6.0         9.0    7.0   \n",
       "\n",
       "   job characteristics  org  perf  \n",
       "0                  3.0  6.0  19.0  \n",
       "1                  5.0  6.0  24.0  \n",
       "2                  5.0  7.0  20.0  \n",
       "3                  5.0  7.0  16.0  \n",
       "4                  7.0  7.0  15.0  "
      ]
     },
     "execution_count": 193,
     "metadata": {},
     "output_type": "execute_result"
    }
   ],
   "source": [
    "data.head()"
   ]
  },
  {
   "cell_type": "code",
   "execution_count": 203,
   "metadata": {},
   "outputs": [
    {
     "data": {
      "text/html": [
       "<div>\n",
       "<style scoped>\n",
       "    .dataframe tbody tr th:only-of-type {\n",
       "        vertical-align: middle;\n",
       "    }\n",
       "\n",
       "    .dataframe tbody tr th {\n",
       "        vertical-align: top;\n",
       "    }\n",
       "\n",
       "    .dataframe thead th {\n",
       "        text-align: right;\n",
       "    }\n",
       "</style>\n",
       "<table border=\"1\" class=\"dataframe\">\n",
       "  <thead>\n",
       "    <tr style=\"text-align: right;\">\n",
       "      <th></th>\n",
       "      <th>marital</th>\n",
       "      <th>age</th>\n",
       "      <th>education</th>\n",
       "      <th>service</th>\n",
       "      <th>B6</th>\n",
       "      <th>B7</th>\n",
       "      <th>B8</th>\n",
       "      <th>B9</th>\n",
       "      <th>B10</th>\n",
       "      <th>B11</th>\n",
       "      <th>B12</th>\n",
       "      <th>B13</th>\n",
       "      <th>B14</th>\n",
       "      <th>B15</th>\n",
       "      <th>B16</th>\n",
       "      <th>B17</th>\n",
       "      <th>B18</th>\n",
       "      <th>B19</th>\n",
       "      <th>B20</th>\n",
       "      <th>B21</th>\n",
       "      <th>B22</th>\n",
       "      <th>B23</th>\n",
       "      <th>B24</th>\n",
       "      <th>B25</th>\n",
       "      <th>B26</th>\n",
       "      <th>B27</th>\n",
       "      <th>B28</th>\n",
       "      <th>B29</th>\n",
       "      <th>B30</th>\n",
       "      <th>C31</th>\n",
       "      <th>C32</th>\n",
       "      <th>C33</th>\n",
       "      <th>C34</th>\n",
       "      <th>C35</th>\n",
       "      <th>C36</th>\n",
       "      <th>C37</th>\n",
       "      <th>C38</th>\n",
       "      <th>D39</th>\n",
       "      <th>D40</th>\n",
       "      <th>D41</th>\n",
       "      <th>D42</th>\n",
       "      <th>D43</th>\n",
       "      <th>D44</th>\n",
       "      <th>well being</th>\n",
       "      <th>relationship with peers</th>\n",
       "      <th>relationship with managers</th>\n",
       "      <th>compensation</th>\n",
       "      <th>work environment</th>\n",
       "      <th>TCD</th>\n",
       "      <th>effectiveness</th>\n",
       "      <th>efficiency</th>\n",
       "      <th>indiv</th>\n",
       "      <th>job characteristics</th>\n",
       "      <th>org</th>\n",
       "      <th>perf</th>\n",
       "    </tr>\n",
       "  </thead>\n",
       "  <tbody>\n",
       "    <tr>\n",
       "      <th>count</th>\n",
       "      <td>80.00000</td>\n",
       "      <td>80.000000</td>\n",
       "      <td>80.000000</td>\n",
       "      <td>80.000000</td>\n",
       "      <td>80.000000</td>\n",
       "      <td>80.00000</td>\n",
       "      <td>80.000000</td>\n",
       "      <td>80.000000</td>\n",
       "      <td>80.000000</td>\n",
       "      <td>80.000000</td>\n",
       "      <td>80.000000</td>\n",
       "      <td>80.000000</td>\n",
       "      <td>80.000000</td>\n",
       "      <td>80.000000</td>\n",
       "      <td>80.00000</td>\n",
       "      <td>80.000000</td>\n",
       "      <td>80.000000</td>\n",
       "      <td>80.000000</td>\n",
       "      <td>80.000000</td>\n",
       "      <td>80.000000</td>\n",
       "      <td>80.00000</td>\n",
       "      <td>80.000000</td>\n",
       "      <td>80.000000</td>\n",
       "      <td>80.00000</td>\n",
       "      <td>80.000000</td>\n",
       "      <td>80.00000</td>\n",
       "      <td>80.000000</td>\n",
       "      <td>80.000000</td>\n",
       "      <td>80.000000</td>\n",
       "      <td>80.000000</td>\n",
       "      <td>80.000000</td>\n",
       "      <td>80.000000</td>\n",
       "      <td>80.000000</td>\n",
       "      <td>80.000000</td>\n",
       "      <td>80.000000</td>\n",
       "      <td>80.000000</td>\n",
       "      <td>80.00000</td>\n",
       "      <td>80.000000</td>\n",
       "      <td>80.000000</td>\n",
       "      <td>80.000000</td>\n",
       "      <td>80.000000</td>\n",
       "      <td>80.00000</td>\n",
       "      <td>80.00000</td>\n",
       "      <td>80.000000</td>\n",
       "      <td>80.000000</td>\n",
       "      <td>80.000000</td>\n",
       "      <td>80.000000</td>\n",
       "      <td>80.000000</td>\n",
       "      <td>80.000000</td>\n",
       "      <td>80.00000</td>\n",
       "      <td>80.00000</td>\n",
       "      <td>80.000000</td>\n",
       "      <td>80.000000</td>\n",
       "      <td>80.000000</td>\n",
       "      <td>80.000000</td>\n",
       "    </tr>\n",
       "    <tr>\n",
       "      <th>mean</th>\n",
       "      <td>1.62500</td>\n",
       "      <td>2.212500</td>\n",
       "      <td>2.462500</td>\n",
       "      <td>2.587500</td>\n",
       "      <td>2.587500</td>\n",
       "      <td>2.62500</td>\n",
       "      <td>2.612500</td>\n",
       "      <td>2.650000</td>\n",
       "      <td>2.512500</td>\n",
       "      <td>3.137500</td>\n",
       "      <td>3.487500</td>\n",
       "      <td>3.175000</td>\n",
       "      <td>3.025000</td>\n",
       "      <td>2.475000</td>\n",
       "      <td>2.42500</td>\n",
       "      <td>3.387500</td>\n",
       "      <td>2.450000</td>\n",
       "      <td>3.350000</td>\n",
       "      <td>3.137500</td>\n",
       "      <td>3.100000</td>\n",
       "      <td>2.82500</td>\n",
       "      <td>3.225000</td>\n",
       "      <td>3.687500</td>\n",
       "      <td>2.58750</td>\n",
       "      <td>2.137500</td>\n",
       "      <td>2.67500</td>\n",
       "      <td>3.050000</td>\n",
       "      <td>2.825000</td>\n",
       "      <td>2.800000</td>\n",
       "      <td>2.600000</td>\n",
       "      <td>2.562500</td>\n",
       "      <td>2.387500</td>\n",
       "      <td>2.500000</td>\n",
       "      <td>3.012500</td>\n",
       "      <td>2.737500</td>\n",
       "      <td>3.475000</td>\n",
       "      <td>3.03750</td>\n",
       "      <td>2.587500</td>\n",
       "      <td>2.500000</td>\n",
       "      <td>1.937500</td>\n",
       "      <td>2.212500</td>\n",
       "      <td>3.20000</td>\n",
       "      <td>2.16250</td>\n",
       "      <td>12.237500</td>\n",
       "      <td>12.050000</td>\n",
       "      <td>14.087500</td>\n",
       "      <td>12.287500</td>\n",
       "      <td>11.087500</td>\n",
       "      <td>11.475000</td>\n",
       "      <td>10.05000</td>\n",
       "      <td>12.26250</td>\n",
       "      <td>5.087500</td>\n",
       "      <td>4.150000</td>\n",
       "      <td>5.362500</td>\n",
       "      <td>22.312500</td>\n",
       "    </tr>\n",
       "    <tr>\n",
       "      <th>std</th>\n",
       "      <td>0.66323</td>\n",
       "      <td>1.051747</td>\n",
       "      <td>0.825906</td>\n",
       "      <td>1.328307</td>\n",
       "      <td>1.481478</td>\n",
       "      <td>1.16244</td>\n",
       "      <td>1.195919</td>\n",
       "      <td>1.191744</td>\n",
       "      <td>1.090741</td>\n",
       "      <td>1.447335</td>\n",
       "      <td>1.190615</td>\n",
       "      <td>1.412198</td>\n",
       "      <td>1.201002</td>\n",
       "      <td>0.810922</td>\n",
       "      <td>1.09977</td>\n",
       "      <td>1.307173</td>\n",
       "      <td>1.089652</td>\n",
       "      <td>1.159441</td>\n",
       "      <td>1.144538</td>\n",
       "      <td>1.164887</td>\n",
       "      <td>0.99078</td>\n",
       "      <td>1.232215</td>\n",
       "      <td>1.142878</td>\n",
       "      <td>1.46429</td>\n",
       "      <td>1.290116</td>\n",
       "      <td>1.09977</td>\n",
       "      <td>1.261905</td>\n",
       "      <td>1.166787</td>\n",
       "      <td>1.246768</td>\n",
       "      <td>1.355719</td>\n",
       "      <td>1.300864</td>\n",
       "      <td>1.257824</td>\n",
       "      <td>1.201265</td>\n",
       "      <td>1.479769</td>\n",
       "      <td>1.209077</td>\n",
       "      <td>1.090523</td>\n",
       "      <td>1.35426</td>\n",
       "      <td>1.165905</td>\n",
       "      <td>1.377946</td>\n",
       "      <td>1.183684</td>\n",
       "      <td>1.132866</td>\n",
       "      <td>1.14073</td>\n",
       "      <td>1.35426</td>\n",
       "      <td>4.168124</td>\n",
       "      <td>4.307485</td>\n",
       "      <td>2.756781</td>\n",
       "      <td>2.106012</td>\n",
       "      <td>3.210717</td>\n",
       "      <td>3.427273</td>\n",
       "      <td>2.48998</td>\n",
       "      <td>3.34037</td>\n",
       "      <td>1.870448</td>\n",
       "      <td>1.923209</td>\n",
       "      <td>1.976083</td>\n",
       "      <td>4.681214</td>\n",
       "    </tr>\n",
       "    <tr>\n",
       "      <th>min</th>\n",
       "      <td>0.00000</td>\n",
       "      <td>0.000000</td>\n",
       "      <td>1.000000</td>\n",
       "      <td>1.000000</td>\n",
       "      <td>0.000000</td>\n",
       "      <td>1.00000</td>\n",
       "      <td>1.000000</td>\n",
       "      <td>0.000000</td>\n",
       "      <td>0.000000</td>\n",
       "      <td>0.000000</td>\n",
       "      <td>1.000000</td>\n",
       "      <td>0.000000</td>\n",
       "      <td>0.000000</td>\n",
       "      <td>0.000000</td>\n",
       "      <td>0.00000</td>\n",
       "      <td>0.000000</td>\n",
       "      <td>1.000000</td>\n",
       "      <td>1.000000</td>\n",
       "      <td>1.000000</td>\n",
       "      <td>1.000000</td>\n",
       "      <td>1.00000</td>\n",
       "      <td>0.000000</td>\n",
       "      <td>1.000000</td>\n",
       "      <td>1.00000</td>\n",
       "      <td>1.000000</td>\n",
       "      <td>0.00000</td>\n",
       "      <td>0.000000</td>\n",
       "      <td>1.000000</td>\n",
       "      <td>0.000000</td>\n",
       "      <td>0.000000</td>\n",
       "      <td>1.000000</td>\n",
       "      <td>0.000000</td>\n",
       "      <td>1.000000</td>\n",
       "      <td>1.000000</td>\n",
       "      <td>0.000000</td>\n",
       "      <td>1.000000</td>\n",
       "      <td>1.00000</td>\n",
       "      <td>0.000000</td>\n",
       "      <td>0.000000</td>\n",
       "      <td>0.000000</td>\n",
       "      <td>0.000000</td>\n",
       "      <td>0.00000</td>\n",
       "      <td>0.00000</td>\n",
       "      <td>0.000000</td>\n",
       "      <td>0.000000</td>\n",
       "      <td>6.000000</td>\n",
       "      <td>7.000000</td>\n",
       "      <td>6.000000</td>\n",
       "      <td>5.000000</td>\n",
       "      <td>6.00000</td>\n",
       "      <td>7.00000</td>\n",
       "      <td>0.000000</td>\n",
       "      <td>1.000000</td>\n",
       "      <td>1.000000</td>\n",
       "      <td>14.000000</td>\n",
       "    </tr>\n",
       "    <tr>\n",
       "      <th>25%</th>\n",
       "      <td>1.00000</td>\n",
       "      <td>2.000000</td>\n",
       "      <td>2.000000</td>\n",
       "      <td>2.000000</td>\n",
       "      <td>1.000000</td>\n",
       "      <td>2.00000</td>\n",
       "      <td>2.000000</td>\n",
       "      <td>2.000000</td>\n",
       "      <td>2.000000</td>\n",
       "      <td>2.000000</td>\n",
       "      <td>2.750000</td>\n",
       "      <td>2.000000</td>\n",
       "      <td>2.000000</td>\n",
       "      <td>2.000000</td>\n",
       "      <td>2.00000</td>\n",
       "      <td>2.000000</td>\n",
       "      <td>2.000000</td>\n",
       "      <td>3.000000</td>\n",
       "      <td>2.000000</td>\n",
       "      <td>2.000000</td>\n",
       "      <td>2.00000</td>\n",
       "      <td>2.000000</td>\n",
       "      <td>3.000000</td>\n",
       "      <td>1.00000</td>\n",
       "      <td>1.000000</td>\n",
       "      <td>2.00000</td>\n",
       "      <td>2.000000</td>\n",
       "      <td>2.000000</td>\n",
       "      <td>2.000000</td>\n",
       "      <td>2.000000</td>\n",
       "      <td>1.000000</td>\n",
       "      <td>1.000000</td>\n",
       "      <td>2.000000</td>\n",
       "      <td>2.000000</td>\n",
       "      <td>2.000000</td>\n",
       "      <td>3.000000</td>\n",
       "      <td>2.00000</td>\n",
       "      <td>2.000000</td>\n",
       "      <td>1.000000</td>\n",
       "      <td>1.000000</td>\n",
       "      <td>1.000000</td>\n",
       "      <td>2.00000</td>\n",
       "      <td>1.00000</td>\n",
       "      <td>11.750000</td>\n",
       "      <td>11.000000</td>\n",
       "      <td>12.000000</td>\n",
       "      <td>11.000000</td>\n",
       "      <td>9.000000</td>\n",
       "      <td>9.000000</td>\n",
       "      <td>8.00000</td>\n",
       "      <td>9.00000</td>\n",
       "      <td>4.000000</td>\n",
       "      <td>3.000000</td>\n",
       "      <td>3.750000</td>\n",
       "      <td>19.000000</td>\n",
       "    </tr>\n",
       "    <tr>\n",
       "      <th>50%</th>\n",
       "      <td>2.00000</td>\n",
       "      <td>2.000000</td>\n",
       "      <td>3.000000</td>\n",
       "      <td>2.000000</td>\n",
       "      <td>2.000000</td>\n",
       "      <td>2.00000</td>\n",
       "      <td>3.000000</td>\n",
       "      <td>2.500000</td>\n",
       "      <td>2.000000</td>\n",
       "      <td>3.000000</td>\n",
       "      <td>4.000000</td>\n",
       "      <td>4.000000</td>\n",
       "      <td>3.000000</td>\n",
       "      <td>2.000000</td>\n",
       "      <td>2.00000</td>\n",
       "      <td>4.000000</td>\n",
       "      <td>2.000000</td>\n",
       "      <td>4.000000</td>\n",
       "      <td>3.000000</td>\n",
       "      <td>3.000000</td>\n",
       "      <td>3.00000</td>\n",
       "      <td>3.000000</td>\n",
       "      <td>4.000000</td>\n",
       "      <td>2.00000</td>\n",
       "      <td>2.000000</td>\n",
       "      <td>2.00000</td>\n",
       "      <td>3.000000</td>\n",
       "      <td>3.000000</td>\n",
       "      <td>3.000000</td>\n",
       "      <td>2.000000</td>\n",
       "      <td>2.000000</td>\n",
       "      <td>2.000000</td>\n",
       "      <td>2.000000</td>\n",
       "      <td>3.000000</td>\n",
       "      <td>3.000000</td>\n",
       "      <td>4.000000</td>\n",
       "      <td>3.00000</td>\n",
       "      <td>2.000000</td>\n",
       "      <td>2.000000</td>\n",
       "      <td>2.000000</td>\n",
       "      <td>2.000000</td>\n",
       "      <td>3.00000</td>\n",
       "      <td>2.00000</td>\n",
       "      <td>13.000000</td>\n",
       "      <td>13.000000</td>\n",
       "      <td>14.000000</td>\n",
       "      <td>12.500000</td>\n",
       "      <td>11.000000</td>\n",
       "      <td>12.000000</td>\n",
       "      <td>10.00000</td>\n",
       "      <td>12.00000</td>\n",
       "      <td>5.000000</td>\n",
       "      <td>3.000000</td>\n",
       "      <td>5.000000</td>\n",
       "      <td>21.000000</td>\n",
       "    </tr>\n",
       "    <tr>\n",
       "      <th>75%</th>\n",
       "      <td>2.00000</td>\n",
       "      <td>3.000000</td>\n",
       "      <td>3.000000</td>\n",
       "      <td>3.000000</td>\n",
       "      <td>4.000000</td>\n",
       "      <td>3.00000</td>\n",
       "      <td>4.000000</td>\n",
       "      <td>3.250000</td>\n",
       "      <td>3.000000</td>\n",
       "      <td>4.000000</td>\n",
       "      <td>4.000000</td>\n",
       "      <td>4.000000</td>\n",
       "      <td>4.000000</td>\n",
       "      <td>3.000000</td>\n",
       "      <td>3.00000</td>\n",
       "      <td>4.000000</td>\n",
       "      <td>3.000000</td>\n",
       "      <td>4.000000</td>\n",
       "      <td>4.000000</td>\n",
       "      <td>4.000000</td>\n",
       "      <td>4.00000</td>\n",
       "      <td>4.000000</td>\n",
       "      <td>5.000000</td>\n",
       "      <td>4.00000</td>\n",
       "      <td>3.000000</td>\n",
       "      <td>3.00000</td>\n",
       "      <td>4.000000</td>\n",
       "      <td>4.000000</td>\n",
       "      <td>4.000000</td>\n",
       "      <td>4.000000</td>\n",
       "      <td>4.000000</td>\n",
       "      <td>3.000000</td>\n",
       "      <td>3.000000</td>\n",
       "      <td>4.000000</td>\n",
       "      <td>4.000000</td>\n",
       "      <td>4.000000</td>\n",
       "      <td>4.00000</td>\n",
       "      <td>3.000000</td>\n",
       "      <td>4.000000</td>\n",
       "      <td>3.000000</td>\n",
       "      <td>2.250000</td>\n",
       "      <td>4.00000</td>\n",
       "      <td>3.25000</td>\n",
       "      <td>14.000000</td>\n",
       "      <td>15.000000</td>\n",
       "      <td>16.000000</td>\n",
       "      <td>14.000000</td>\n",
       "      <td>14.000000</td>\n",
       "      <td>14.000000</td>\n",
       "      <td>12.00000</td>\n",
       "      <td>15.25000</td>\n",
       "      <td>6.250000</td>\n",
       "      <td>5.000000</td>\n",
       "      <td>7.000000</td>\n",
       "      <td>26.000000</td>\n",
       "    </tr>\n",
       "    <tr>\n",
       "      <th>max</th>\n",
       "      <td>3.00000</td>\n",
       "      <td>5.000000</td>\n",
       "      <td>4.000000</td>\n",
       "      <td>6.000000</td>\n",
       "      <td>5.000000</td>\n",
       "      <td>5.00000</td>\n",
       "      <td>5.000000</td>\n",
       "      <td>5.000000</td>\n",
       "      <td>5.000000</td>\n",
       "      <td>5.000000</td>\n",
       "      <td>5.000000</td>\n",
       "      <td>5.000000</td>\n",
       "      <td>5.000000</td>\n",
       "      <td>4.000000</td>\n",
       "      <td>5.00000</td>\n",
       "      <td>5.000000</td>\n",
       "      <td>5.000000</td>\n",
       "      <td>5.000000</td>\n",
       "      <td>5.000000</td>\n",
       "      <td>5.000000</td>\n",
       "      <td>5.00000</td>\n",
       "      <td>5.000000</td>\n",
       "      <td>5.000000</td>\n",
       "      <td>5.00000</td>\n",
       "      <td>5.000000</td>\n",
       "      <td>5.00000</td>\n",
       "      <td>5.000000</td>\n",
       "      <td>5.000000</td>\n",
       "      <td>5.000000</td>\n",
       "      <td>5.000000</td>\n",
       "      <td>5.000000</td>\n",
       "      <td>5.000000</td>\n",
       "      <td>5.000000</td>\n",
       "      <td>5.000000</td>\n",
       "      <td>5.000000</td>\n",
       "      <td>5.000000</td>\n",
       "      <td>5.00000</td>\n",
       "      <td>5.000000</td>\n",
       "      <td>5.000000</td>\n",
       "      <td>5.000000</td>\n",
       "      <td>5.000000</td>\n",
       "      <td>5.00000</td>\n",
       "      <td>5.00000</td>\n",
       "      <td>19.000000</td>\n",
       "      <td>18.000000</td>\n",
       "      <td>19.000000</td>\n",
       "      <td>15.000000</td>\n",
       "      <td>20.000000</td>\n",
       "      <td>18.000000</td>\n",
       "      <td>16.00000</td>\n",
       "      <td>19.00000</td>\n",
       "      <td>9.000000</td>\n",
       "      <td>10.000000</td>\n",
       "      <td>9.000000</td>\n",
       "      <td>32.000000</td>\n",
       "    </tr>\n",
       "  </tbody>\n",
       "</table>\n",
       "</div>"
      ],
      "text/plain": [
       "        marital        age  education    service         B6        B7  \\\n",
       "count  80.00000  80.000000  80.000000  80.000000  80.000000  80.00000   \n",
       "mean    1.62500   2.212500   2.462500   2.587500   2.587500   2.62500   \n",
       "std     0.66323   1.051747   0.825906   1.328307   1.481478   1.16244   \n",
       "min     0.00000   0.000000   1.000000   1.000000   0.000000   1.00000   \n",
       "25%     1.00000   2.000000   2.000000   2.000000   1.000000   2.00000   \n",
       "50%     2.00000   2.000000   3.000000   2.000000   2.000000   2.00000   \n",
       "75%     2.00000   3.000000   3.000000   3.000000   4.000000   3.00000   \n",
       "max     3.00000   5.000000   4.000000   6.000000   5.000000   5.00000   \n",
       "\n",
       "              B8         B9        B10        B11        B12        B13  \\\n",
       "count  80.000000  80.000000  80.000000  80.000000  80.000000  80.000000   \n",
       "mean    2.612500   2.650000   2.512500   3.137500   3.487500   3.175000   \n",
       "std     1.195919   1.191744   1.090741   1.447335   1.190615   1.412198   \n",
       "min     1.000000   0.000000   0.000000   0.000000   1.000000   0.000000   \n",
       "25%     2.000000   2.000000   2.000000   2.000000   2.750000   2.000000   \n",
       "50%     3.000000   2.500000   2.000000   3.000000   4.000000   4.000000   \n",
       "75%     4.000000   3.250000   3.000000   4.000000   4.000000   4.000000   \n",
       "max     5.000000   5.000000   5.000000   5.000000   5.000000   5.000000   \n",
       "\n",
       "             B14        B15       B16        B17        B18        B19  \\\n",
       "count  80.000000  80.000000  80.00000  80.000000  80.000000  80.000000   \n",
       "mean    3.025000   2.475000   2.42500   3.387500   2.450000   3.350000   \n",
       "std     1.201002   0.810922   1.09977   1.307173   1.089652   1.159441   \n",
       "min     0.000000   0.000000   0.00000   0.000000   1.000000   1.000000   \n",
       "25%     2.000000   2.000000   2.00000   2.000000   2.000000   3.000000   \n",
       "50%     3.000000   2.000000   2.00000   4.000000   2.000000   4.000000   \n",
       "75%     4.000000   3.000000   3.00000   4.000000   3.000000   4.000000   \n",
       "max     5.000000   4.000000   5.00000   5.000000   5.000000   5.000000   \n",
       "\n",
       "             B20        B21       B22        B23        B24       B25  \\\n",
       "count  80.000000  80.000000  80.00000  80.000000  80.000000  80.00000   \n",
       "mean    3.137500   3.100000   2.82500   3.225000   3.687500   2.58750   \n",
       "std     1.144538   1.164887   0.99078   1.232215   1.142878   1.46429   \n",
       "min     1.000000   1.000000   1.00000   0.000000   1.000000   1.00000   \n",
       "25%     2.000000   2.000000   2.00000   2.000000   3.000000   1.00000   \n",
       "50%     3.000000   3.000000   3.00000   3.000000   4.000000   2.00000   \n",
       "75%     4.000000   4.000000   4.00000   4.000000   5.000000   4.00000   \n",
       "max     5.000000   5.000000   5.00000   5.000000   5.000000   5.00000   \n",
       "\n",
       "             B26       B27        B28        B29        B30        C31  \\\n",
       "count  80.000000  80.00000  80.000000  80.000000  80.000000  80.000000   \n",
       "mean    2.137500   2.67500   3.050000   2.825000   2.800000   2.600000   \n",
       "std     1.290116   1.09977   1.261905   1.166787   1.246768   1.355719   \n",
       "min     1.000000   0.00000   0.000000   1.000000   0.000000   0.000000   \n",
       "25%     1.000000   2.00000   2.000000   2.000000   2.000000   2.000000   \n",
       "50%     2.000000   2.00000   3.000000   3.000000   3.000000   2.000000   \n",
       "75%     3.000000   3.00000   4.000000   4.000000   4.000000   4.000000   \n",
       "max     5.000000   5.00000   5.000000   5.000000   5.000000   5.000000   \n",
       "\n",
       "             C32        C33        C34        C35        C36        C37  \\\n",
       "count  80.000000  80.000000  80.000000  80.000000  80.000000  80.000000   \n",
       "mean    2.562500   2.387500   2.500000   3.012500   2.737500   3.475000   \n",
       "std     1.300864   1.257824   1.201265   1.479769   1.209077   1.090523   \n",
       "min     1.000000   0.000000   1.000000   1.000000   0.000000   1.000000   \n",
       "25%     1.000000   1.000000   2.000000   2.000000   2.000000   3.000000   \n",
       "50%     2.000000   2.000000   2.000000   3.000000   3.000000   4.000000   \n",
       "75%     4.000000   3.000000   3.000000   4.000000   4.000000   4.000000   \n",
       "max     5.000000   5.000000   5.000000   5.000000   5.000000   5.000000   \n",
       "\n",
       "            C38        D39        D40        D41        D42       D43  \\\n",
       "count  80.00000  80.000000  80.000000  80.000000  80.000000  80.00000   \n",
       "mean    3.03750   2.587500   2.500000   1.937500   2.212500   3.20000   \n",
       "std     1.35426   1.165905   1.377946   1.183684   1.132866   1.14073   \n",
       "min     1.00000   0.000000   0.000000   0.000000   0.000000   0.00000   \n",
       "25%     2.00000   2.000000   1.000000   1.000000   1.000000   2.00000   \n",
       "50%     3.00000   2.000000   2.000000   2.000000   2.000000   3.00000   \n",
       "75%     4.00000   3.000000   4.000000   3.000000   2.250000   4.00000   \n",
       "max     5.00000   5.000000   5.000000   5.000000   5.000000   5.00000   \n",
       "\n",
       "            D44  well being  relationship with peers  \\\n",
       "count  80.00000   80.000000                80.000000   \n",
       "mean    2.16250   12.237500                12.050000   \n",
       "std     1.35426    4.168124                 4.307485   \n",
       "min     0.00000    0.000000                 0.000000   \n",
       "25%     1.00000   11.750000                11.000000   \n",
       "50%     2.00000   13.000000                13.000000   \n",
       "75%     3.25000   14.000000                15.000000   \n",
       "max     5.00000   19.000000                18.000000   \n",
       "\n",
       "       relationship with managers  compensation  work environment        TCD  \\\n",
       "count                   80.000000     80.000000         80.000000  80.000000   \n",
       "mean                    14.087500     12.287500         11.087500  11.475000   \n",
       "std                      2.756781      2.106012          3.210717   3.427273   \n",
       "min                      6.000000      7.000000          6.000000   5.000000   \n",
       "25%                     12.000000     11.000000          9.000000   9.000000   \n",
       "50%                     14.000000     12.500000         11.000000  12.000000   \n",
       "75%                     16.000000     14.000000         14.000000  14.000000   \n",
       "max                     19.000000     15.000000         20.000000  18.000000   \n",
       "\n",
       "       effectiveness  efficiency      indiv  job characteristics        org  \\\n",
       "count       80.00000    80.00000  80.000000            80.000000  80.000000   \n",
       "mean        10.05000    12.26250   5.087500             4.150000   5.362500   \n",
       "std          2.48998     3.34037   1.870448             1.923209   1.976083   \n",
       "min          6.00000     7.00000   0.000000             1.000000   1.000000   \n",
       "25%          8.00000     9.00000   4.000000             3.000000   3.750000   \n",
       "50%         10.00000    12.00000   5.000000             3.000000   5.000000   \n",
       "75%         12.00000    15.25000   6.250000             5.000000   7.000000   \n",
       "max         16.00000    19.00000   9.000000            10.000000   9.000000   \n",
       "\n",
       "            perf  \n",
       "count  80.000000  \n",
       "mean   22.312500  \n",
       "std     4.681214  \n",
       "min    14.000000  \n",
       "25%    19.000000  \n",
       "50%    21.000000  \n",
       "75%    26.000000  \n",
       "max    32.000000  "
      ]
     },
     "execution_count": 203,
     "metadata": {},
     "output_type": "execute_result"
    }
   ],
   "source": [
    "#Descriptive statistics of the variables\n",
    "data.describe()"
   ]
  },
  {
   "cell_type": "markdown",
   "metadata": {},
   "source": [
    "## Regression Analysis using the Statsmodels library\n"
   ]
  },
  {
   "cell_type": "code",
   "execution_count": 212,
   "metadata": {},
   "outputs": [],
   "source": [
    "#Rename the necessary columns \n",
    "data=data.rename({'well being':'Ew','relationship with peers':'RC','relationship with managers':'RM','compensation':'C','work environment':'WE','TCD':'T'},axis=1)"
   ]
  },
  {
   "cell_type": "code",
   "execution_count": 214,
   "metadata": {},
   "outputs": [],
   "source": [
    "results= sm.ols(formula='perf~Ew+RC + RM+C+WE+T',data=data).fit()"
   ]
  },
  {
   "cell_type": "code",
   "execution_count": 216,
   "metadata": {},
   "outputs": [
    {
     "data": {
      "text/html": [
       "<table class=\"simpletable\">\n",
       "<caption>OLS Regression Results</caption>\n",
       "<tr>\n",
       "  <th>Dep. Variable:</th>          <td>perf</td>       <th>  R-squared:         </th> <td>   0.231</td>\n",
       "</tr>\n",
       "<tr>\n",
       "  <th>Model:</th>                   <td>OLS</td>       <th>  Adj. R-squared:    </th> <td>   0.168</td>\n",
       "</tr>\n",
       "<tr>\n",
       "  <th>Method:</th>             <td>Least Squares</td>  <th>  F-statistic:       </th> <td>   3.654</td>\n",
       "</tr>\n",
       "<tr>\n",
       "  <th>Date:</th>             <td>Fri, 22 Jan 2021</td> <th>  Prob (F-statistic):</th>  <td>0.00316</td>\n",
       "</tr>\n",
       "<tr>\n",
       "  <th>Time:</th>                 <td>16:37:27</td>     <th>  Log-Likelihood:    </th> <td> -225.99</td>\n",
       "</tr>\n",
       "<tr>\n",
       "  <th>No. Observations:</th>      <td>    80</td>      <th>  AIC:               </th> <td>   466.0</td>\n",
       "</tr>\n",
       "<tr>\n",
       "  <th>Df Residuals:</th>          <td>    73</td>      <th>  BIC:               </th> <td>   482.7</td>\n",
       "</tr>\n",
       "<tr>\n",
       "  <th>Df Model:</th>              <td>     6</td>      <th>                     </th>     <td> </td>   \n",
       "</tr>\n",
       "<tr>\n",
       "  <th>Covariance Type:</th>      <td>nonrobust</td>    <th>                     </th>     <td> </td>   \n",
       "</tr>\n",
       "</table>\n",
       "<table class=\"simpletable\">\n",
       "<tr>\n",
       "      <td></td>         <th>coef</th>     <th>std err</th>      <th>t</th>      <th>P>|t|</th>  <th>[0.025</th>    <th>0.975]</th>  \n",
       "</tr>\n",
       "<tr>\n",
       "  <th>Intercept</th> <td>   23.8701</td> <td>    6.101</td> <td>    3.913</td> <td> 0.000</td> <td>   11.711</td> <td>   36.029</td>\n",
       "</tr>\n",
       "<tr>\n",
       "  <th>Ew</th>        <td>    0.0472</td> <td>    0.119</td> <td>    0.395</td> <td> 0.694</td> <td>   -0.191</td> <td>    0.285</td>\n",
       "</tr>\n",
       "<tr>\n",
       "  <th>RC</th>        <td>    0.3558</td> <td>    0.125</td> <td>    2.855</td> <td> 0.006</td> <td>    0.107</td> <td>    0.604</td>\n",
       "</tr>\n",
       "<tr>\n",
       "  <th>RM</th>        <td>   -0.7080</td> <td>    0.213</td> <td>   -3.329</td> <td> 0.001</td> <td>   -1.132</td> <td>   -0.284</td>\n",
       "</tr>\n",
       "<tr>\n",
       "  <th>C</th>         <td>    0.3955</td> <td>    0.264</td> <td>    1.496</td> <td> 0.139</td> <td>   -0.131</td> <td>    0.922</td>\n",
       "</tr>\n",
       "<tr>\n",
       "  <th>WE</th>        <td>   -0.0890</td> <td>    0.185</td> <td>   -0.481</td> <td> 0.632</td> <td>   -0.458</td> <td>    0.280</td>\n",
       "</tr>\n",
       "<tr>\n",
       "  <th>T</th>         <td>   -0.0279</td> <td>    0.157</td> <td>   -0.178</td> <td> 0.859</td> <td>   -0.340</td> <td>    0.284</td>\n",
       "</tr>\n",
       "</table>\n",
       "<table class=\"simpletable\">\n",
       "<tr>\n",
       "  <th>Omnibus:</th>       <td> 1.783</td> <th>  Durbin-Watson:     </th> <td>   0.609</td>\n",
       "</tr>\n",
       "<tr>\n",
       "  <th>Prob(Omnibus):</th> <td> 0.410</td> <th>  Jarque-Bera (JB):  </th> <td>   1.759</td>\n",
       "</tr>\n",
       "<tr>\n",
       "  <th>Skew:</th>          <td> 0.344</td> <th>  Prob(JB):          </th> <td>   0.415</td>\n",
       "</tr>\n",
       "<tr>\n",
       "  <th>Kurtosis:</th>      <td> 2.768</td> <th>  Cond. No.          </th> <td>    386.</td>\n",
       "</tr>\n",
       "</table><br/><br/>Notes:<br/>[1] Standard Errors assume that the covariance matrix of the errors is correctly specified."
      ],
      "text/plain": [
       "<class 'statsmodels.iolib.summary.Summary'>\n",
       "\"\"\"\n",
       "                            OLS Regression Results                            \n",
       "==============================================================================\n",
       "Dep. Variable:                   perf   R-squared:                       0.231\n",
       "Model:                            OLS   Adj. R-squared:                  0.168\n",
       "Method:                 Least Squares   F-statistic:                     3.654\n",
       "Date:                Fri, 22 Jan 2021   Prob (F-statistic):            0.00316\n",
       "Time:                        16:37:27   Log-Likelihood:                -225.99\n",
       "No. Observations:                  80   AIC:                             466.0\n",
       "Df Residuals:                      73   BIC:                             482.7\n",
       "Df Model:                           6                                         \n",
       "Covariance Type:            nonrobust                                         \n",
       "==============================================================================\n",
       "                 coef    std err          t      P>|t|      [0.025      0.975]\n",
       "------------------------------------------------------------------------------\n",
       "Intercept     23.8701      6.101      3.913      0.000      11.711      36.029\n",
       "Ew             0.0472      0.119      0.395      0.694      -0.191       0.285\n",
       "RC             0.3558      0.125      2.855      0.006       0.107       0.604\n",
       "RM            -0.7080      0.213     -3.329      0.001      -1.132      -0.284\n",
       "C              0.3955      0.264      1.496      0.139      -0.131       0.922\n",
       "WE            -0.0890      0.185     -0.481      0.632      -0.458       0.280\n",
       "T             -0.0279      0.157     -0.178      0.859      -0.340       0.284\n",
       "==============================================================================\n",
       "Omnibus:                        1.783   Durbin-Watson:                   0.609\n",
       "Prob(Omnibus):                  0.410   Jarque-Bera (JB):                1.759\n",
       "Skew:                           0.344   Prob(JB):                        0.415\n",
       "Kurtosis:                       2.768   Cond. No.                         386.\n",
       "==============================================================================\n",
       "\n",
       "Notes:\n",
       "[1] Standard Errors assume that the covariance matrix of the errors is correctly specified.\n",
       "\"\"\""
      ]
     },
     "execution_count": 216,
     "metadata": {},
     "output_type": "execute_result"
    }
   ],
   "source": [
    "results.summary()"
   ]
  },
  {
   "cell_type": "code",
   "execution_count": null,
   "metadata": {},
   "outputs": [],
   "source": []
  }
 ],
 "metadata": {
  "kernelspec": {
   "display_name": "Python 3",
   "language": "python",
   "name": "python3"
  },
  "language_info": {
   "codemirror_mode": {
    "name": "ipython",
    "version": 3
   },
   "file_extension": ".py",
   "mimetype": "text/x-python",
   "name": "python",
   "nbconvert_exporter": "python",
   "pygments_lexer": "ipython3",
   "version": "3.8.5"
  }
 },
 "nbformat": 4,
 "nbformat_minor": 4
}
